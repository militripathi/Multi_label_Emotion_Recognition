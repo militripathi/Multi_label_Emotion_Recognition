{
  "metadata": {
    "colab": {
      "provenance": []
    },
    "gpuClass": "standard",
    "kernelspec": {
      "display_name": "Python 3",
      "language": "python",
      "name": "python3"
    },
    "language_info": {
      "codemirror_mode": {
        "name": "ipython",
        "version": 3
      },
      "file_extension": ".py",
      "mimetype": "text/x-python",
      "name": "python",
      "nbconvert_exporter": "python",
      "pygments_lexer": "ipython3",
      "version": "3.7.12"
    },
    "papermill": {
      "default_parameters": {},
      "duration": 5258.830687,
      "end_time": "2021-06-11T22:56:20.628315",
      "environment_variables": {},
      "exception": null,
      "input_path": "__notebook__.ipynb",
      "output_path": "__notebook__.ipynb",
      "parameters": {},
      "start_time": "2021-06-11T21:28:41.797628",
      "version": "2.2.2"
    }
  },
  "nbformat_minor": 0,
  "nbformat": 4,
  "cells": [
    {
      "cell_type": "code",
      "source": [
        "!pip install beautifulsoup4 \n",
        "!pip install transformers\n",
        "!pip install emoji\n",
        "!pip install contractions"
      ],
      "metadata": {
        "colab": {
          "base_uri": "https://localhost:8080/"
        },
        "id": "F8PEBqNlZ9di",
        "outputId": "c301b025-f8db-4b3f-b3da-d353a9129ad6",
        "execution": {
          "iopub.status.busy": "2022-11-13T06:36:45.432682Z",
          "iopub.execute_input": "2022-11-13T06:36:45.433148Z",
          "iopub.status.idle": "2022-11-13T06:37:25.469621Z",
          "shell.execute_reply.started": "2022-11-13T06:36:45.433050Z",
          "shell.execute_reply": "2022-11-13T06:37:25.467999Z"
        },
        "trusted": true
      },
      "execution_count": 83,
      "outputs": [
        {
          "output_type": "stream",
          "name": "stdout",
          "text": [
            "Looking in indexes: https://pypi.org/simple, https://us-python.pkg.dev/colab-wheels/public/simple/\n",
            "Requirement already satisfied: beautifulsoup4 in /usr/local/lib/python3.7/dist-packages (4.6.3)\n",
            "Looking in indexes: https://pypi.org/simple, https://us-python.pkg.dev/colab-wheels/public/simple/\n",
            "Requirement already satisfied: transformers in /usr/local/lib/python3.7/dist-packages (4.24.0)\n",
            "Requirement already satisfied: tokenizers!=0.11.3,<0.14,>=0.11.1 in /usr/local/lib/python3.7/dist-packages (from transformers) (0.13.2)\n",
            "Requirement already satisfied: filelock in /usr/local/lib/python3.7/dist-packages (from transformers) (3.8.0)\n",
            "Requirement already satisfied: huggingface-hub<1.0,>=0.10.0 in /usr/local/lib/python3.7/dist-packages (from transformers) (0.11.0)\n",
            "Requirement already satisfied: pyyaml>=5.1 in /usr/local/lib/python3.7/dist-packages (from transformers) (6.0)\n",
            "Requirement already satisfied: numpy>=1.17 in /usr/local/lib/python3.7/dist-packages (from transformers) (1.21.6)\n",
            "Requirement already satisfied: regex!=2019.12.17 in /usr/local/lib/python3.7/dist-packages (from transformers) (2022.6.2)\n",
            "Requirement already satisfied: requests in /usr/local/lib/python3.7/dist-packages (from transformers) (2.23.0)\n",
            "Requirement already satisfied: packaging>=20.0 in /usr/local/lib/python3.7/dist-packages (from transformers) (21.3)\n",
            "Requirement already satisfied: tqdm>=4.27 in /usr/local/lib/python3.7/dist-packages (from transformers) (4.64.1)\n",
            "Requirement already satisfied: importlib-metadata in /usr/local/lib/python3.7/dist-packages (from transformers) (4.13.0)\n",
            "Requirement already satisfied: typing-extensions>=3.7.4.3 in /usr/local/lib/python3.7/dist-packages (from huggingface-hub<1.0,>=0.10.0->transformers) (4.1.1)\n",
            "Requirement already satisfied: pyparsing!=3.0.5,>=2.0.2 in /usr/local/lib/python3.7/dist-packages (from packaging>=20.0->transformers) (3.0.9)\n",
            "Requirement already satisfied: zipp>=0.5 in /usr/local/lib/python3.7/dist-packages (from importlib-metadata->transformers) (3.10.0)\n",
            "Requirement already satisfied: urllib3!=1.25.0,!=1.25.1,<1.26,>=1.21.1 in /usr/local/lib/python3.7/dist-packages (from requests->transformers) (1.24.3)\n",
            "Requirement already satisfied: chardet<4,>=3.0.2 in /usr/local/lib/python3.7/dist-packages (from requests->transformers) (3.0.4)\n",
            "Requirement already satisfied: certifi>=2017.4.17 in /usr/local/lib/python3.7/dist-packages (from requests->transformers) (2022.9.24)\n",
            "Requirement already satisfied: idna<3,>=2.5 in /usr/local/lib/python3.7/dist-packages (from requests->transformers) (2.10)\n",
            "Looking in indexes: https://pypi.org/simple, https://us-python.pkg.dev/colab-wheels/public/simple/\n",
            "Requirement already satisfied: emoji in /usr/local/lib/python3.7/dist-packages (2.2.0)\n",
            "Looking in indexes: https://pypi.org/simple, https://us-python.pkg.dev/colab-wheels/public/simple/\n",
            "Requirement already satisfied: contractions in /usr/local/lib/python3.7/dist-packages (0.1.73)\n",
            "Requirement already satisfied: textsearch>=0.0.21 in /usr/local/lib/python3.7/dist-packages (from contractions) (0.0.24)\n",
            "Requirement already satisfied: anyascii in /usr/local/lib/python3.7/dist-packages (from textsearch>=0.0.21->contractions) (0.3.1)\n",
            "Requirement already satisfied: pyahocorasick in /usr/local/lib/python3.7/dist-packages (from textsearch>=0.0.21->contractions) (1.4.4)\n"
          ]
        }
      ]
    },
    {
      "cell_type": "code",
      "source": [
        "import os\n",
        "import re\n",
        "import string\n",
        "import json\n",
        "import emoji\n",
        "import numpy as np\n",
        "import pandas as pd\n",
        "from sklearn import metrics\n",
        "from bs4 import BeautifulSoup\n",
        "import time\n",
        "import transformers\n",
        "import torch\n",
        "import torch.nn as nn\n",
        "from torch.utils.data import Dataset, DataLoader, RandomSampler, SequentialSampler\n",
        "from transformers import DistilBertForSequenceClassification, DistilBertTokenizer, DistilBertConfig\n",
        "from transformers import BertTokenizer, AutoTokenizer, BertModel, BertConfig, AutoModel, AdamW\n",
        "from torch.utils.data import Dataset, DataLoader, RandomSampler, SequentialSampler\n",
        "from transformers import DistilBertTokenizer, DistilBertModel\n",
        "import warnings\n",
        "warnings.filterwarnings('ignore')\n",
        "\n",
        "# Scikit-learn packages\n",
        "from sklearn.metrics import accuracy_score\n",
        "from sklearn.metrics import precision_recall_fscore_support\n",
        "from sklearn.utils.class_weight import compute_class_weight\n",
        "\n",
        "pd.set_option(\"display.max_columns\", None)"
      ],
      "metadata": {
        "id": "qTlfn_DyZ9dl",
        "execution": {
          "iopub.status.busy": "2022-11-13T06:37:25.472261Z",
          "iopub.execute_input": "2022-11-13T06:37:25.472645Z",
          "iopub.status.idle": "2022-11-13T06:37:33.089153Z",
          "shell.execute_reply.started": "2022-11-13T06:37:25.472605Z",
          "shell.execute_reply": "2022-11-13T06:37:33.088102Z"
        },
        "trusted": true
      },
      "execution_count": 84,
      "outputs": []
    },
    {
      "cell_type": "code",
      "source": [
        "from google.colab import drive\n",
        "drive.mount('/content/drive')"
      ],
      "metadata": {
        "colab": {
          "base_uri": "https://localhost:8080/"
        },
        "id": "9e7VxeXz1cWC",
        "outputId": "8b909a33-92f4-4ce0-b0ad-d24e99b16a43"
      },
      "execution_count": 85,
      "outputs": [
        {
          "output_type": "stream",
          "name": "stdout",
          "text": [
            "Drive already mounted at /content/drive; to attempt to forcibly remount, call drive.mount(\"/content/drive\", force_remount=True).\n"
          ]
        }
      ]
    },
    {
      "cell_type": "markdown",
      "source": [
        "# New section"
      ],
      "metadata": {
        "id": "CCvXmj-6bN-I"
      }
    },
    {
      "cell_type": "code",
      "source": [
        "df_train = pd.read_csv(\"/content/drive/MyDrive/GoEmotions_Git/data/train.tsv\", sep='\\t', header=None, names=['Text', 'Class', 'ID'])\n",
        "df_dev = pd.read_csv(\"/content/drive/MyDrive/GoEmotions_Git/data/dev.tsv\", sep='\\t', header=None, names=['Text', 'Class', 'ID'])"
      ],
      "metadata": {
        "id": "4xwzj1yYZ9dm",
        "execution": {
          "iopub.status.busy": "2022-11-13T06:37:33.090661Z",
          "iopub.execute_input": "2022-11-13T06:37:33.091397Z",
          "iopub.status.idle": "2022-11-13T06:37:33.244914Z",
          "shell.execute_reply.started": "2022-11-13T06:37:33.091357Z",
          "shell.execute_reply": "2022-11-13T06:37:33.243976Z"
        },
        "trusted": true
      },
      "execution_count": 86,
      "outputs": []
    },
    {
      "cell_type": "code",
      "source": [
        "df_train['List of classes'] = df_train['Class'].apply(lambda x: x.split(','))\n",
        "df_train['Len of classes'] = df_train['List of classes'].apply(lambda x: len(x))\n",
        "df_dev['List of classes'] = df_dev['Class'].apply(lambda x: x.split(','))\n",
        "df_dev['Len of classes'] = df_dev['List of classes'].apply(lambda x: len(x))"
      ],
      "metadata": {
        "id": "MgK4UoUSZ9dn",
        "execution": {
          "iopub.status.busy": "2022-11-13T06:37:33.247554Z",
          "iopub.execute_input": "2022-11-13T06:37:33.248216Z",
          "iopub.status.idle": "2022-11-13T06:37:33.478628Z",
          "shell.execute_reply.started": "2022-11-13T06:37:33.248178Z",
          "shell.execute_reply": "2022-11-13T06:37:33.477596Z"
        },
        "trusted": true
      },
      "execution_count": 87,
      "outputs": []
    },
    {
      "cell_type": "code",
      "source": [
        "with open('/content/drive/MyDrive/GoEmotions_Git/data/ekman_mapping.json') as file:\n",
        "    ekman_mapping = json.load(file)"
      ],
      "metadata": {
        "id": "-GbLhmuWZ9dn",
        "execution": {
          "iopub.status.busy": "2022-11-13T06:37:33.480033Z",
          "iopub.execute_input": "2022-11-13T06:37:33.480400Z",
          "iopub.status.idle": "2022-11-13T06:37:33.488359Z",
          "shell.execute_reply.started": "2022-11-13T06:37:33.480363Z",
          "shell.execute_reply": "2022-11-13T06:37:33.487282Z"
        },
        "trusted": true
      },
      "execution_count": 88,
      "outputs": []
    },
    {
      "cell_type": "code",
      "source": [
        "emotion_file = open(\"/content/drive/MyDrive/GoEmotions_Git/data/emotions.txt\", \"r\")\n",
        "emotion_list = emotion_file.read()\n",
        "emotion_list = emotion_list.split(\"\\n\")\n",
        "print(emotion_list)"
      ],
      "metadata": {
        "colab": {
          "base_uri": "https://localhost:8080/"
        },
        "id": "3BfZElewZ9do",
        "outputId": "4617f339-9419-41fb-d05c-af77fc1c49ae",
        "execution": {
          "iopub.status.busy": "2022-11-13T06:37:33.489874Z",
          "iopub.execute_input": "2022-11-13T06:37:33.490260Z",
          "iopub.status.idle": "2022-11-13T06:37:33.501033Z",
          "shell.execute_reply.started": "2022-11-13T06:37:33.490223Z",
          "shell.execute_reply": "2022-11-13T06:37:33.499905Z"
        },
        "trusted": true
      },
      "execution_count": 89,
      "outputs": [
        {
          "output_type": "stream",
          "name": "stdout",
          "text": [
            "['admiration', 'amusement', 'anger', 'annoyance', 'approval', 'caring', 'confusion', 'curiosity', 'desire', 'disappointment', 'disapproval', 'disgust', 'embarrassment', 'excitement', 'fear', 'gratitude', 'grief', 'joy', 'love', 'nervousness', 'optimism', 'pride', 'realization', 'relief', 'remorse', 'sadness', 'surprise', 'neutral']\n"
          ]
        }
      ]
    },
    {
      "cell_type": "code",
      "source": [
        "def idx2class(idx_list):\n",
        "    arr = []\n",
        "    for i in idx_list:\n",
        "        arr.append(emotion_list[int(i)])\n",
        "    return arr"
      ],
      "metadata": {
        "id": "IsjI82AFZ9do",
        "execution": {
          "iopub.status.busy": "2022-11-13T06:37:33.502537Z",
          "iopub.execute_input": "2022-11-13T06:37:33.503014Z",
          "iopub.status.idle": "2022-11-13T06:37:33.508228Z",
          "shell.execute_reply.started": "2022-11-13T06:37:33.502980Z",
          "shell.execute_reply": "2022-11-13T06:37:33.507057Z"
        },
        "trusted": true
      },
      "execution_count": 90,
      "outputs": []
    },
    {
      "cell_type": "code",
      "source": [
        "df_train['Emotions'] = df_train['List of classes'].apply(idx2class)\n",
        "df_dev['Emotions'] = df_dev['List of classes'].apply(idx2class)"
      ],
      "metadata": {
        "id": "ln92hzwkZ9dp",
        "execution": {
          "iopub.status.busy": "2022-11-13T06:37:33.509704Z",
          "iopub.execute_input": "2022-11-13T06:37:33.510133Z",
          "iopub.status.idle": "2022-11-13T06:37:33.553006Z",
          "shell.execute_reply.started": "2022-11-13T06:37:33.510086Z",
          "shell.execute_reply": "2022-11-13T06:37:33.552101Z"
        },
        "trusted": true
      },
      "execution_count": 91,
      "outputs": []
    },
    {
      "cell_type": "code",
      "source": [
        "def EmotionMapping(emotion_list):\n",
        "    map_list = []\n",
        "    \n",
        "    for i in emotion_list:\n",
        "        if i in ekman_mapping['anger']:\n",
        "            map_list.append('anger')\n",
        "        if i in ekman_mapping['disgust']:\n",
        "            map_list.append('disgust')\n",
        "        if i in ekman_mapping['fear']:\n",
        "            map_list.append('fear')\n",
        "        if i in ekman_mapping['joy']:\n",
        "            map_list.append('joy')\n",
        "        if i in ekman_mapping['sadness']:\n",
        "            map_list.append('sadness')\n",
        "        if i in ekman_mapping['surprise']:\n",
        "            map_list.append('surprise')\n",
        "        if i == 'neutral':\n",
        "            map_list.append('neutral')\n",
        "            \n",
        "    return map_list"
      ],
      "metadata": {
        "id": "WVsHxkDCZ9dp",
        "execution": {
          "iopub.status.busy": "2022-11-13T06:37:33.554358Z",
          "iopub.execute_input": "2022-11-13T06:37:33.554881Z",
          "iopub.status.idle": "2022-11-13T06:37:33.562042Z",
          "shell.execute_reply.started": "2022-11-13T06:37:33.554846Z",
          "shell.execute_reply": "2022-11-13T06:37:33.561007Z"
        },
        "trusted": true
      },
      "execution_count": 92,
      "outputs": []
    },
    {
      "cell_type": "code",
      "source": [
        "df_train['Mapped Emotions'] = df_train['Emotions'].apply(EmotionMapping)\n",
        "df_dev['Mapped Emotions'] = df_dev['Emotions'].apply(EmotionMapping)"
      ],
      "metadata": {
        "id": "EN-h0QKHZ9dq",
        "execution": {
          "iopub.status.busy": "2022-11-13T06:37:33.567081Z",
          "iopub.execute_input": "2022-11-13T06:37:33.567359Z",
          "iopub.status.idle": "2022-11-13T06:37:33.823096Z",
          "shell.execute_reply.started": "2022-11-13T06:37:33.567335Z",
          "shell.execute_reply": "2022-11-13T06:37:33.822138Z"
        },
        "trusted": true
      },
      "execution_count": 93,
      "outputs": []
    },
    {
      "cell_type": "code",
      "source": [
        "df_train['anger'] = np.zeros((len(df_train),1))\n",
        "df_train['disgust'] = np.zeros((len(df_train),1))\n",
        "df_train['fear'] = np.zeros((len(df_train),1))\n",
        "df_train['joy'] = np.zeros((len(df_train),1))\n",
        "df_train['sadness'] = np.zeros((len(df_train),1))\n",
        "df_train['surprise'] = np.zeros((len(df_train),1))\n",
        "df_train['neutral'] = np.zeros((len(df_train),1))\n",
        "\n",
        "df_dev['anger'] = np.zeros((len(df_dev),1))\n",
        "df_dev['disgust'] = np.zeros((len(df_dev),1))\n",
        "df_dev['fear'] = np.zeros((len(df_dev),1))\n",
        "df_dev['joy'] = np.zeros((len(df_dev),1))\n",
        "df_dev['sadness'] = np.zeros((len(df_dev),1))\n",
        "df_dev['surprise'] = np.zeros((len(df_dev),1))\n",
        "df_dev['neutral'] = np.zeros((len(df_dev),1))"
      ],
      "metadata": {
        "id": "Q8WrnAcFZ9dq",
        "execution": {
          "iopub.status.busy": "2022-11-13T06:37:33.824613Z",
          "iopub.execute_input": "2022-11-13T06:37:33.824979Z",
          "iopub.status.idle": "2022-11-13T06:37:33.843662Z",
          "shell.execute_reply.started": "2022-11-13T06:37:33.824927Z",
          "shell.execute_reply": "2022-11-13T06:37:33.842473Z"
        },
        "trusted": true
      },
      "execution_count": 94,
      "outputs": []
    },
    {
      "cell_type": "code",
      "source": [
        "for i in ['anger', 'disgust', 'fear', 'joy', 'sadness', 'surprise','neutral']:\n",
        "    df_train[i] = df_train['Mapped Emotions'].apply(lambda x: 1 if i in x else 0)\n",
        "    df_dev[i] = df_dev['Mapped Emotions'].apply(lambda x: 1 if i in x else 0)"
      ],
      "metadata": {
        "id": "R9TfO2uzZ9dq",
        "execution": {
          "iopub.status.busy": "2022-11-13T06:37:33.845139Z",
          "iopub.execute_input": "2022-11-13T06:37:33.845496Z",
          "iopub.status.idle": "2022-11-13T06:37:33.975995Z",
          "shell.execute_reply.started": "2022-11-13T06:37:33.845462Z",
          "shell.execute_reply": "2022-11-13T06:37:33.974985Z"
        },
        "trusted": true
      },
      "execution_count": 95,
      "outputs": []
    },
    {
      "cell_type": "code",
      "source": [
        "df_train.head()"
      ],
      "metadata": {
        "colab": {
          "base_uri": "https://localhost:8080/",
          "height": 320
        },
        "id": "sCwqQdgrZ9dr",
        "outputId": "e803faa4-db6e-4713-b40b-aecc68ed9d31",
        "execution": {
          "iopub.status.busy": "2022-11-13T06:37:33.977524Z",
          "iopub.execute_input": "2022-11-13T06:37:33.977890Z",
          "iopub.status.idle": "2022-11-13T06:37:34.002528Z",
          "shell.execute_reply.started": "2022-11-13T06:37:33.977854Z",
          "shell.execute_reply": "2022-11-13T06:37:34.001615Z"
        },
        "trusted": true
      },
      "execution_count": 96,
      "outputs": [
        {
          "output_type": "execute_result",
          "data": {
            "text/plain": [
              "                                                Text Class       ID  \\\n",
              "0  My favourite food is anything I didn't have to...    27  eebbqej   \n",
              "1  Now if he does off himself, everyone will thin...    27  ed00q6i   \n",
              "2                     WHY THE FUCK IS BAYLESS ISOING     2  eezlygj   \n",
              "3                        To make her feel threatened    14  ed7ypvh   \n",
              "4                             Dirty Southern Wankers     3  ed0bdzj   \n",
              "\n",
              "  List of classes  Len of classes     Emotions Mapped Emotions  anger  \\\n",
              "0            [27]               1    [neutral]       [neutral]      0   \n",
              "1            [27]               1    [neutral]       [neutral]      0   \n",
              "2             [2]               1      [anger]         [anger]      1   \n",
              "3            [14]               1       [fear]          [fear]      0   \n",
              "4             [3]               1  [annoyance]         [anger]      1   \n",
              "\n",
              "   disgust  fear  joy  sadness  surprise  neutral  \n",
              "0        0     0    0        0         0        1  \n",
              "1        0     0    0        0         0        1  \n",
              "2        0     0    0        0         0        0  \n",
              "3        0     1    0        0         0        0  \n",
              "4        0     0    0        0         0        0  "
            ],
            "text/html": [
              "\n",
              "  <div id=\"df-b78535c2-ff5f-466b-8c63-102213f78fe5\">\n",
              "    <div class=\"colab-df-container\">\n",
              "      <div>\n",
              "<style scoped>\n",
              "    .dataframe tbody tr th:only-of-type {\n",
              "        vertical-align: middle;\n",
              "    }\n",
              "\n",
              "    .dataframe tbody tr th {\n",
              "        vertical-align: top;\n",
              "    }\n",
              "\n",
              "    .dataframe thead th {\n",
              "        text-align: right;\n",
              "    }\n",
              "</style>\n",
              "<table border=\"1\" class=\"dataframe\">\n",
              "  <thead>\n",
              "    <tr style=\"text-align: right;\">\n",
              "      <th></th>\n",
              "      <th>Text</th>\n",
              "      <th>Class</th>\n",
              "      <th>ID</th>\n",
              "      <th>List of classes</th>\n",
              "      <th>Len of classes</th>\n",
              "      <th>Emotions</th>\n",
              "      <th>Mapped Emotions</th>\n",
              "      <th>anger</th>\n",
              "      <th>disgust</th>\n",
              "      <th>fear</th>\n",
              "      <th>joy</th>\n",
              "      <th>sadness</th>\n",
              "      <th>surprise</th>\n",
              "      <th>neutral</th>\n",
              "    </tr>\n",
              "  </thead>\n",
              "  <tbody>\n",
              "    <tr>\n",
              "      <th>0</th>\n",
              "      <td>My favourite food is anything I didn't have to...</td>\n",
              "      <td>27</td>\n",
              "      <td>eebbqej</td>\n",
              "      <td>[27]</td>\n",
              "      <td>1</td>\n",
              "      <td>[neutral]</td>\n",
              "      <td>[neutral]</td>\n",
              "      <td>0</td>\n",
              "      <td>0</td>\n",
              "      <td>0</td>\n",
              "      <td>0</td>\n",
              "      <td>0</td>\n",
              "      <td>0</td>\n",
              "      <td>1</td>\n",
              "    </tr>\n",
              "    <tr>\n",
              "      <th>1</th>\n",
              "      <td>Now if he does off himself, everyone will thin...</td>\n",
              "      <td>27</td>\n",
              "      <td>ed00q6i</td>\n",
              "      <td>[27]</td>\n",
              "      <td>1</td>\n",
              "      <td>[neutral]</td>\n",
              "      <td>[neutral]</td>\n",
              "      <td>0</td>\n",
              "      <td>0</td>\n",
              "      <td>0</td>\n",
              "      <td>0</td>\n",
              "      <td>0</td>\n",
              "      <td>0</td>\n",
              "      <td>1</td>\n",
              "    </tr>\n",
              "    <tr>\n",
              "      <th>2</th>\n",
              "      <td>WHY THE FUCK IS BAYLESS ISOING</td>\n",
              "      <td>2</td>\n",
              "      <td>eezlygj</td>\n",
              "      <td>[2]</td>\n",
              "      <td>1</td>\n",
              "      <td>[anger]</td>\n",
              "      <td>[anger]</td>\n",
              "      <td>1</td>\n",
              "      <td>0</td>\n",
              "      <td>0</td>\n",
              "      <td>0</td>\n",
              "      <td>0</td>\n",
              "      <td>0</td>\n",
              "      <td>0</td>\n",
              "    </tr>\n",
              "    <tr>\n",
              "      <th>3</th>\n",
              "      <td>To make her feel threatened</td>\n",
              "      <td>14</td>\n",
              "      <td>ed7ypvh</td>\n",
              "      <td>[14]</td>\n",
              "      <td>1</td>\n",
              "      <td>[fear]</td>\n",
              "      <td>[fear]</td>\n",
              "      <td>0</td>\n",
              "      <td>0</td>\n",
              "      <td>1</td>\n",
              "      <td>0</td>\n",
              "      <td>0</td>\n",
              "      <td>0</td>\n",
              "      <td>0</td>\n",
              "    </tr>\n",
              "    <tr>\n",
              "      <th>4</th>\n",
              "      <td>Dirty Southern Wankers</td>\n",
              "      <td>3</td>\n",
              "      <td>ed0bdzj</td>\n",
              "      <td>[3]</td>\n",
              "      <td>1</td>\n",
              "      <td>[annoyance]</td>\n",
              "      <td>[anger]</td>\n",
              "      <td>1</td>\n",
              "      <td>0</td>\n",
              "      <td>0</td>\n",
              "      <td>0</td>\n",
              "      <td>0</td>\n",
              "      <td>0</td>\n",
              "      <td>0</td>\n",
              "    </tr>\n",
              "  </tbody>\n",
              "</table>\n",
              "</div>\n",
              "      <button class=\"colab-df-convert\" onclick=\"convertToInteractive('df-b78535c2-ff5f-466b-8c63-102213f78fe5')\"\n",
              "              title=\"Convert this dataframe to an interactive table.\"\n",
              "              style=\"display:none;\">\n",
              "        \n",
              "  <svg xmlns=\"http://www.w3.org/2000/svg\" height=\"24px\"viewBox=\"0 0 24 24\"\n",
              "       width=\"24px\">\n",
              "    <path d=\"M0 0h24v24H0V0z\" fill=\"none\"/>\n",
              "    <path d=\"M18.56 5.44l.94 2.06.94-2.06 2.06-.94-2.06-.94-.94-2.06-.94 2.06-2.06.94zm-11 1L8.5 8.5l.94-2.06 2.06-.94-2.06-.94L8.5 2.5l-.94 2.06-2.06.94zm10 10l.94 2.06.94-2.06 2.06-.94-2.06-.94-.94-2.06-.94 2.06-2.06.94z\"/><path d=\"M17.41 7.96l-1.37-1.37c-.4-.4-.92-.59-1.43-.59-.52 0-1.04.2-1.43.59L10.3 9.45l-7.72 7.72c-.78.78-.78 2.05 0 2.83L4 21.41c.39.39.9.59 1.41.59.51 0 1.02-.2 1.41-.59l7.78-7.78 2.81-2.81c.8-.78.8-2.07 0-2.86zM5.41 20L4 18.59l7.72-7.72 1.47 1.35L5.41 20z\"/>\n",
              "  </svg>\n",
              "      </button>\n",
              "      \n",
              "  <style>\n",
              "    .colab-df-container {\n",
              "      display:flex;\n",
              "      flex-wrap:wrap;\n",
              "      gap: 12px;\n",
              "    }\n",
              "\n",
              "    .colab-df-convert {\n",
              "      background-color: #E8F0FE;\n",
              "      border: none;\n",
              "      border-radius: 50%;\n",
              "      cursor: pointer;\n",
              "      display: none;\n",
              "      fill: #1967D2;\n",
              "      height: 32px;\n",
              "      padding: 0 0 0 0;\n",
              "      width: 32px;\n",
              "    }\n",
              "\n",
              "    .colab-df-convert:hover {\n",
              "      background-color: #E2EBFA;\n",
              "      box-shadow: 0px 1px 2px rgba(60, 64, 67, 0.3), 0px 1px 3px 1px rgba(60, 64, 67, 0.15);\n",
              "      fill: #174EA6;\n",
              "    }\n",
              "\n",
              "    [theme=dark] .colab-df-convert {\n",
              "      background-color: #3B4455;\n",
              "      fill: #D2E3FC;\n",
              "    }\n",
              "\n",
              "    [theme=dark] .colab-df-convert:hover {\n",
              "      background-color: #434B5C;\n",
              "      box-shadow: 0px 1px 3px 1px rgba(0, 0, 0, 0.15);\n",
              "      filter: drop-shadow(0px 1px 2px rgba(0, 0, 0, 0.3));\n",
              "      fill: #FFFFFF;\n",
              "    }\n",
              "  </style>\n",
              "\n",
              "      <script>\n",
              "        const buttonEl =\n",
              "          document.querySelector('#df-b78535c2-ff5f-466b-8c63-102213f78fe5 button.colab-df-convert');\n",
              "        buttonEl.style.display =\n",
              "          google.colab.kernel.accessAllowed ? 'block' : 'none';\n",
              "\n",
              "        async function convertToInteractive(key) {\n",
              "          const element = document.querySelector('#df-b78535c2-ff5f-466b-8c63-102213f78fe5');\n",
              "          const dataTable =\n",
              "            await google.colab.kernel.invokeFunction('convertToInteractive',\n",
              "                                                     [key], {});\n",
              "          if (!dataTable) return;\n",
              "\n",
              "          const docLinkHtml = 'Like what you see? Visit the ' +\n",
              "            '<a target=\"_blank\" href=https://colab.research.google.com/notebooks/data_table.ipynb>data table notebook</a>'\n",
              "            + ' to learn more about interactive tables.';\n",
              "          element.innerHTML = '';\n",
              "          dataTable['output_type'] = 'display_data';\n",
              "          await google.colab.output.renderOutput(dataTable, element);\n",
              "          const docLink = document.createElement('div');\n",
              "          docLink.innerHTML = docLinkHtml;\n",
              "          element.appendChild(docLink);\n",
              "        }\n",
              "      </script>\n",
              "    </div>\n",
              "  </div>\n",
              "  "
            ]
          },
          "metadata": {},
          "execution_count": 96
        }
      ]
    },
    {
      "cell_type": "code",
      "source": [
        "df_dev.head()"
      ],
      "metadata": {
        "colab": {
          "base_uri": "https://localhost:8080/",
          "height": 337
        },
        "id": "kBbvkz0RZ9dr",
        "outputId": "d9d088df-d311-4e74-b185-9b821afea008",
        "execution": {
          "iopub.status.busy": "2022-11-13T06:37:34.003881Z",
          "iopub.execute_input": "2022-11-13T06:37:34.004416Z",
          "iopub.status.idle": "2022-11-13T06:37:34.023056Z",
          "shell.execute_reply.started": "2022-11-13T06:37:34.004380Z",
          "shell.execute_reply": "2022-11-13T06:37:34.021835Z"
        },
        "trusted": true
      },
      "execution_count": 97,
      "outputs": [
        {
          "output_type": "execute_result",
          "data": {
            "text/plain": [
              "                                                Text Class       ID  \\\n",
              "0  Is this in New Orleans?? I really feel like th...    27  edgurhb   \n",
              "1  You know the answer man, you are programmed to...  4,27  ee84bjg   \n",
              "2               I've never been this sad in my life!    25  edcu99z   \n",
              "3  The economy is heavily controlled and subsidiz...  4,27  edc32e2   \n",
              "4  He could have easily taken a real camera from ...    20  eepig6r   \n",
              "\n",
              "  List of classes  Len of classes             Emotions Mapped Emotions  anger  \\\n",
              "0            [27]               1            [neutral]       [neutral]      0   \n",
              "1         [4, 27]               2  [approval, neutral]  [joy, neutral]      0   \n",
              "2            [25]               1            [sadness]       [sadness]      0   \n",
              "3         [4, 27]               2  [approval, neutral]  [joy, neutral]      0   \n",
              "4            [20]               1           [optimism]           [joy]      0   \n",
              "\n",
              "   disgust  fear  joy  sadness  surprise  neutral  \n",
              "0        0     0    0        0         0        1  \n",
              "1        0     0    1        0         0        1  \n",
              "2        0     0    0        1         0        0  \n",
              "3        0     0    1        0         0        1  \n",
              "4        0     0    1        0         0        0  "
            ],
            "text/html": [
              "\n",
              "  <div id=\"df-b84a02fc-cf50-4a8b-9e39-3f00983e6ecb\">\n",
              "    <div class=\"colab-df-container\">\n",
              "      <div>\n",
              "<style scoped>\n",
              "    .dataframe tbody tr th:only-of-type {\n",
              "        vertical-align: middle;\n",
              "    }\n",
              "\n",
              "    .dataframe tbody tr th {\n",
              "        vertical-align: top;\n",
              "    }\n",
              "\n",
              "    .dataframe thead th {\n",
              "        text-align: right;\n",
              "    }\n",
              "</style>\n",
              "<table border=\"1\" class=\"dataframe\">\n",
              "  <thead>\n",
              "    <tr style=\"text-align: right;\">\n",
              "      <th></th>\n",
              "      <th>Text</th>\n",
              "      <th>Class</th>\n",
              "      <th>ID</th>\n",
              "      <th>List of classes</th>\n",
              "      <th>Len of classes</th>\n",
              "      <th>Emotions</th>\n",
              "      <th>Mapped Emotions</th>\n",
              "      <th>anger</th>\n",
              "      <th>disgust</th>\n",
              "      <th>fear</th>\n",
              "      <th>joy</th>\n",
              "      <th>sadness</th>\n",
              "      <th>surprise</th>\n",
              "      <th>neutral</th>\n",
              "    </tr>\n",
              "  </thead>\n",
              "  <tbody>\n",
              "    <tr>\n",
              "      <th>0</th>\n",
              "      <td>Is this in New Orleans?? I really feel like th...</td>\n",
              "      <td>27</td>\n",
              "      <td>edgurhb</td>\n",
              "      <td>[27]</td>\n",
              "      <td>1</td>\n",
              "      <td>[neutral]</td>\n",
              "      <td>[neutral]</td>\n",
              "      <td>0</td>\n",
              "      <td>0</td>\n",
              "      <td>0</td>\n",
              "      <td>0</td>\n",
              "      <td>0</td>\n",
              "      <td>0</td>\n",
              "      <td>1</td>\n",
              "    </tr>\n",
              "    <tr>\n",
              "      <th>1</th>\n",
              "      <td>You know the answer man, you are programmed to...</td>\n",
              "      <td>4,27</td>\n",
              "      <td>ee84bjg</td>\n",
              "      <td>[4, 27]</td>\n",
              "      <td>2</td>\n",
              "      <td>[approval, neutral]</td>\n",
              "      <td>[joy, neutral]</td>\n",
              "      <td>0</td>\n",
              "      <td>0</td>\n",
              "      <td>0</td>\n",
              "      <td>1</td>\n",
              "      <td>0</td>\n",
              "      <td>0</td>\n",
              "      <td>1</td>\n",
              "    </tr>\n",
              "    <tr>\n",
              "      <th>2</th>\n",
              "      <td>I've never been this sad in my life!</td>\n",
              "      <td>25</td>\n",
              "      <td>edcu99z</td>\n",
              "      <td>[25]</td>\n",
              "      <td>1</td>\n",
              "      <td>[sadness]</td>\n",
              "      <td>[sadness]</td>\n",
              "      <td>0</td>\n",
              "      <td>0</td>\n",
              "      <td>0</td>\n",
              "      <td>0</td>\n",
              "      <td>1</td>\n",
              "      <td>0</td>\n",
              "      <td>0</td>\n",
              "    </tr>\n",
              "    <tr>\n",
              "      <th>3</th>\n",
              "      <td>The economy is heavily controlled and subsidiz...</td>\n",
              "      <td>4,27</td>\n",
              "      <td>edc32e2</td>\n",
              "      <td>[4, 27]</td>\n",
              "      <td>2</td>\n",
              "      <td>[approval, neutral]</td>\n",
              "      <td>[joy, neutral]</td>\n",
              "      <td>0</td>\n",
              "      <td>0</td>\n",
              "      <td>0</td>\n",
              "      <td>1</td>\n",
              "      <td>0</td>\n",
              "      <td>0</td>\n",
              "      <td>1</td>\n",
              "    </tr>\n",
              "    <tr>\n",
              "      <th>4</th>\n",
              "      <td>He could have easily taken a real camera from ...</td>\n",
              "      <td>20</td>\n",
              "      <td>eepig6r</td>\n",
              "      <td>[20]</td>\n",
              "      <td>1</td>\n",
              "      <td>[optimism]</td>\n",
              "      <td>[joy]</td>\n",
              "      <td>0</td>\n",
              "      <td>0</td>\n",
              "      <td>0</td>\n",
              "      <td>1</td>\n",
              "      <td>0</td>\n",
              "      <td>0</td>\n",
              "      <td>0</td>\n",
              "    </tr>\n",
              "  </tbody>\n",
              "</table>\n",
              "</div>\n",
              "      <button class=\"colab-df-convert\" onclick=\"convertToInteractive('df-b84a02fc-cf50-4a8b-9e39-3f00983e6ecb')\"\n",
              "              title=\"Convert this dataframe to an interactive table.\"\n",
              "              style=\"display:none;\">\n",
              "        \n",
              "  <svg xmlns=\"http://www.w3.org/2000/svg\" height=\"24px\"viewBox=\"0 0 24 24\"\n",
              "       width=\"24px\">\n",
              "    <path d=\"M0 0h24v24H0V0z\" fill=\"none\"/>\n",
              "    <path d=\"M18.56 5.44l.94 2.06.94-2.06 2.06-.94-2.06-.94-.94-2.06-.94 2.06-2.06.94zm-11 1L8.5 8.5l.94-2.06 2.06-.94-2.06-.94L8.5 2.5l-.94 2.06-2.06.94zm10 10l.94 2.06.94-2.06 2.06-.94-2.06-.94-.94-2.06-.94 2.06-2.06.94z\"/><path d=\"M17.41 7.96l-1.37-1.37c-.4-.4-.92-.59-1.43-.59-.52 0-1.04.2-1.43.59L10.3 9.45l-7.72 7.72c-.78.78-.78 2.05 0 2.83L4 21.41c.39.39.9.59 1.41.59.51 0 1.02-.2 1.41-.59l7.78-7.78 2.81-2.81c.8-.78.8-2.07 0-2.86zM5.41 20L4 18.59l7.72-7.72 1.47 1.35L5.41 20z\"/>\n",
              "  </svg>\n",
              "      </button>\n",
              "      \n",
              "  <style>\n",
              "    .colab-df-container {\n",
              "      display:flex;\n",
              "      flex-wrap:wrap;\n",
              "      gap: 12px;\n",
              "    }\n",
              "\n",
              "    .colab-df-convert {\n",
              "      background-color: #E8F0FE;\n",
              "      border: none;\n",
              "      border-radius: 50%;\n",
              "      cursor: pointer;\n",
              "      display: none;\n",
              "      fill: #1967D2;\n",
              "      height: 32px;\n",
              "      padding: 0 0 0 0;\n",
              "      width: 32px;\n",
              "    }\n",
              "\n",
              "    .colab-df-convert:hover {\n",
              "      background-color: #E2EBFA;\n",
              "      box-shadow: 0px 1px 2px rgba(60, 64, 67, 0.3), 0px 1px 3px 1px rgba(60, 64, 67, 0.15);\n",
              "      fill: #174EA6;\n",
              "    }\n",
              "\n",
              "    [theme=dark] .colab-df-convert {\n",
              "      background-color: #3B4455;\n",
              "      fill: #D2E3FC;\n",
              "    }\n",
              "\n",
              "    [theme=dark] .colab-df-convert:hover {\n",
              "      background-color: #434B5C;\n",
              "      box-shadow: 0px 1px 3px 1px rgba(0, 0, 0, 0.15);\n",
              "      filter: drop-shadow(0px 1px 2px rgba(0, 0, 0, 0.3));\n",
              "      fill: #FFFFFF;\n",
              "    }\n",
              "  </style>\n",
              "\n",
              "      <script>\n",
              "        const buttonEl =\n",
              "          document.querySelector('#df-b84a02fc-cf50-4a8b-9e39-3f00983e6ecb button.colab-df-convert');\n",
              "        buttonEl.style.display =\n",
              "          google.colab.kernel.accessAllowed ? 'block' : 'none';\n",
              "\n",
              "        async function convertToInteractive(key) {\n",
              "          const element = document.querySelector('#df-b84a02fc-cf50-4a8b-9e39-3f00983e6ecb');\n",
              "          const dataTable =\n",
              "            await google.colab.kernel.invokeFunction('convertToInteractive',\n",
              "                                                     [key], {});\n",
              "          if (!dataTable) return;\n",
              "\n",
              "          const docLinkHtml = 'Like what you see? Visit the ' +\n",
              "            '<a target=\"_blank\" href=https://colab.research.google.com/notebooks/data_table.ipynb>data table notebook</a>'\n",
              "            + ' to learn more about interactive tables.';\n",
              "          element.innerHTML = '';\n",
              "          dataTable['output_type'] = 'display_data';\n",
              "          await google.colab.output.renderOutput(dataTable, element);\n",
              "          const docLink = document.createElement('div');\n",
              "          docLink.innerHTML = docLinkHtml;\n",
              "          element.appendChild(docLink);\n",
              "        }\n",
              "      </script>\n",
              "    </div>\n",
              "  </div>\n",
              "  "
            ]
          },
          "metadata": {},
          "execution_count": 97
        }
      ]
    },
    {
      "cell_type": "code",
      "source": [
        "df_train.drop(df_train[df_train['neutral'] == 1].index, inplace=True)\n",
        "df_dev.drop(df_dev[df_dev['neutral'] == 1].index, inplace=True)\n",
        "#df_train.drop(df_train[df_train['disgust'] == 1].index, inplace=True)\n",
        "#df_dev.drop(df_dev[df_dev['disgust'] == 1].index, inplace=True)"
      ],
      "metadata": {
        "id": "NMeNV-SaZ9dr",
        "execution": {
          "iopub.status.busy": "2022-11-13T06:37:34.024578Z",
          "iopub.execute_input": "2022-11-13T06:37:34.025436Z",
          "iopub.status.idle": "2022-11-13T06:37:34.068763Z",
          "shell.execute_reply.started": "2022-11-13T06:37:34.025402Z",
          "shell.execute_reply": "2022-11-13T06:37:34.067797Z"
        },
        "trusted": true
      },
      "execution_count": 98,
      "outputs": []
    },
    {
      "cell_type": "code",
      "source": [
        "df_train.drop(['Class', 'List of classes', 'Len of classes', 'Emotions', 'Mapped Emotions', 'neutral'], axis=1, inplace=True)\n",
        "df_dev.drop(['Class', 'List of classes', 'Len of classes', 'Emotions', 'Mapped Emotions', 'neutral'], axis=1, inplace=True)"
      ],
      "metadata": {
        "id": "dZowJnMYZ9ds",
        "execution": {
          "iopub.status.busy": "2022-11-13T06:37:34.070407Z",
          "iopub.execute_input": "2022-11-13T06:37:34.070788Z",
          "iopub.status.idle": "2022-11-13T06:37:34.080593Z",
          "shell.execute_reply.started": "2022-11-13T06:37:34.070749Z",
          "shell.execute_reply": "2022-11-13T06:37:34.079480Z"
        },
        "trusted": true
      },
      "execution_count": 99,
      "outputs": []
    },
    {
      "cell_type": "code",
      "source": [
        "contraction_mapping = {\"ain't\": \"is not\", \"aren't\": \"are not\",\"can't\": \"cannot\", \"'cause\": \"because\", \"could've\": \"could have\", \"couldn't\": \"could not\", \n",
        "                       \"didn't\": \"did not\",  \"doesn't\": \"does not\", \"don't\": \"do not\", \"hadn't\": \"had not\", \"hasn't\": \"has not\", \"haven't\": \"have not\", \n",
        "                       \"he'd\": \"he would\",\"he'll\": \"he will\", \"he's\": \"he is\", \"how'd\": \"how did\", \"how'd'y\": \"how do you\", \"how'll\": \"how will\", \n",
        "                       \"how's\": \"how is\",  \"I'd\": \"I would\", \"I'd've\": \"I would have\", \"I'll\": \"I will\", \"I'll've\": \"I will have\",\"I'm\": \"I am\",\n",
        "                       \"I've\": \"I have\", \"i'd\": \"i would\", \"i'd've\": \"i would have\", \"i'll\": \"i will\",  \"i'll've\": \"i will have\",\"i'm\": \"i am\", \n",
        "                       \"i've\": \"i have\", \"isn't\": \"is not\", \"it'd\": \"it would\", \"it'd've\": \"it would have\", \"it'll\": \"it will\", \"it'll've\": \"it will have\",\n",
        "                       \"it's\": \"it is\", \"let's\": \"let us\", \"ma'am\": \"madam\", \"mayn't\": \"may not\", \"might've\": \"might have\",\"mightn't\": \"might not\",\n",
        "                       \"mightn't've\": \"might not have\", \"must've\": \"must have\", \"mustn't\": \"must not\", \"mustn't've\": \"must not have\", \"needn't\": \"need not\", \n",
        "                       \"needn't've\": \"need not have\",\"o'clock\": \"of the clock\", \"oughtn't\": \"ought not\", \"oughtn't've\": \"ought not have\", \"shan't\": \"shall not\",\n",
        "                       \"sha'n't\": \"shall not\", \"shan't've\": \"shall not have\", \"she'd\": \"she would\", \"she'd've\": \"she would have\", \"she'll\": \"she will\", \n",
        "                       \"she'll've\": \"she will have\", \"she's\": \"she is\", \"should've\": \"should have\", \"shouldn't\": \"should not\", \"shouldn't've\": \"should not have\",\n",
        "                       \"so've\": \"so have\",\"so's\": \"so as\", \"this's\": \"this is\",\"that'd\": \"that would\", \"that'd've\": \"that would have\", \"that's\": \"that is\",\n",
        "                       \"there'd\": \"there would\", \"there'd've\": \"there would have\", \"there's\": \"there is\", \"here's\": \"here is\",\"they'd\": \"they would\",\n",
        "                       \"they'd've\": \"they would have\", \"they'll\": \"they will\", \"they'll've\": \"they will have\", \"they're\": \"they are\", \"they've\": \"they have\",\n",
        "                       \"to've\": \"to have\", \"wasn't\": \"was not\", \"we'd\": \"we would\", \"we'd've\": \"we would have\", \"we'll\": \"we will\", \"we'll've\": \"we will have\",\n",
        "                       \"we're\": \"we are\", \"we've\": \"we have\", \"weren't\": \"were not\", \"what'll\": \"what will\", \"what'll've\": \"what will have\", \n",
        "                       \"what're\": \"what are\",  \"what's\": \"what is\", \"what've\": \"what have\", \"when's\": \"when is\", \"when've\": \"when have\", \"where'd\": \"where did\",\n",
        "                       \"where's\": \"where is\", \"where've\": \"where have\", \"who'll\": \"who will\", \"who'll've\": \"who will have\", \"who's\": \"who is\", \n",
        "                       \"who've\": \"who have\", \"why's\": \"why is\", \"why've\": \"why have\", \"will've\": \"will have\", \"won't\": \"will not\", \"won't've\": \"will not have\", \n",
        "                       \"would've\": \"would have\", \"wouldn't\": \"would not\", \"wouldn't've\": \"would not have\", \"y'all\": \"you all\", \"y'all'd\": \"you all would\",\n",
        "                       \"y'all'd've\": \"you all would have\",\"y'all're\": \"you all are\",\"y'all've\": \"you all have\",\"you'd\": \"you would\", \"you'd've\": \"you would have\",\n",
        "                       \"you'll\": \"you will\", \"you'll've\": \"you will have\", \"you're\": \"you are\", \"you've\": \"you have\", 'u.s':'america', 'e.g':'for example'}\n",
        "\n",
        "punct = [',', '.', '\"', ':', ')', '(', '-', '!', '?', '|', ';', \"'\", '$', '&', '/', '[', ']', '>', '%', '=', '#', '*', '+', '\\\\', '•',  '~', '@', '£', \n",
        " '·', '_', '{', '}', '©', '^', '®', '`',  '<', '→', '°', '€', '™', '›',  '♥', '←', '×', '§', '″', '′', 'Â', '█', '½', 'à', '…', \n",
        " '“', '★', '”', '–', '●', 'â', '►', '−', '¢', '²', '¬', '░', '¶', '↑', '±', '¿', '▾', '═', '¦', '║', '―', '¥', '▓', '—', '‹', '─', \n",
        " '▒', '：', '¼', '⊕', '▼', '▪', '†', '■', '’', '▀', '¨', '▄', '♫', '☆', 'é', '¯', '♦', '¤', '▲', 'è', '¸', '¾', 'Ã', '⋅', '‘', '∞', \n",
        " '∙', '）', '↓', '、', '│', '（', '»', '，', '♪', '╩', '╚', '³', '・', '╦', '╣', '╔', '╗', '▬', '❤', 'ï', 'Ø', '¹', '≤', '‡', '√', ]\n",
        "\n",
        "punct_mapping = {\"‘\": \"'\", \"₹\": \"e\", \"´\": \"'\", \"°\": \"\", \"€\": \"e\", \"™\": \"tm\", \"√\": \" sqrt \", \"×\": \"x\", \"²\": \"2\", \"—\": \"-\", \"–\": \"-\", \"’\": \"'\", \"_\": \"-\",\n",
        "                 \"`\": \"'\", '“': '\"', '”': '\"', '“': '\"', \"£\": \"e\", '∞': 'infinity', 'θ': 'theta', '÷': '/', 'α': 'alpha', '•': '.', 'à': 'a', '−': '-', \n",
        "                 'β': 'beta', '∅': '', '³': '3', 'π': 'pi', '!':' '}\n",
        "\n",
        "mispell_dict = {'colour': 'color', 'centre': 'center', 'favourite': 'favorite', 'travelling': 'traveling', 'counselling': 'counseling', 'theatre': 'theater',\n",
        "                'cancelled': 'canceled', 'labour': 'labor', 'organisation': 'organization', 'wwii': 'world war 2', 'citicise': 'criticize', 'youtu ': 'youtube ',\n",
        "                'Qoura': 'Quora', 'sallary': 'salary', 'Whta': 'What', 'narcisist': 'narcissist', 'howdo': 'how do', 'whatare': 'what are', 'howcan': 'how can',\n",
        "                'howmuch': 'how much', 'howmany': 'how many', 'whydo': 'why do', 'doI': 'do I', 'theBest': 'the best', 'howdoes': 'how does', \n",
        "                'mastrubation': 'masturbation', 'mastrubate': 'masturbate', \"mastrubating\": 'masturbating', 'pennis': 'penis', 'Etherium': 'Ethereum', \n",
        "                'narcissit': 'narcissist', 'bigdata': 'big data', '2k17': '2017', '2k18': '2018', 'qouta': 'quota', 'exboyfriend': 'ex boyfriend', \n",
        "                'airhostess': 'air hostess', \"whst\": 'what', 'watsapp': 'whatsapp', 'demonitisation': 'demonetization', 'demonitization': 'demonetization',\n",
        "                'demonetisation': 'demonetization'}"
      ],
      "metadata": {
        "id": "bslgB4MZZ9ds",
        "execution": {
          "iopub.status.busy": "2022-11-13T06:37:34.082552Z",
          "iopub.execute_input": "2022-11-13T06:37:34.082912Z",
          "iopub.status.idle": "2022-11-13T06:37:34.106860Z",
          "shell.execute_reply.started": "2022-11-13T06:37:34.082877Z",
          "shell.execute_reply": "2022-11-13T06:37:34.105836Z"
        },
        "trusted": true
      },
      "execution_count": 100,
      "outputs": []
    },
    {
      "cell_type": "code",
      "source": [
        "def clean_text(text):\n",
        "    '''Clean emoji, Make text lowercase, remove text in square brackets,remove links,remove punctuation\n",
        "    and remove words containing numbers.'''\n",
        "    text = emoji.demojize(text)\n",
        "    text = re.sub(r'\\:(.*?)\\:','',text)\n",
        "    text = str(text).lower()    #Making Text Lowercase\n",
        "    text = re.sub('\\[.*?\\]', '', text)\n",
        "    #The next 2 lines remove html text\n",
        "    text = BeautifulSoup(text, 'lxml').get_text()\n",
        "    text = re.sub('https?://\\S+|www\\.\\S+', '', text)\n",
        "    text = re.sub('<.*?>+', '', text)\n",
        "    text = re.sub('\\n', '', text)\n",
        "    text = re.sub('\\w*\\d\\w*', '', text)\n",
        "    # replacing everything with space except (a-z, A-Z, \".\", \"?\", \"!\", \",\", \"'\")\n",
        "    text = re.sub(r\"[^a-zA-Z?.!,¿']+\", \" \", text)\n",
        "    return text\n",
        "\n",
        "def clean_contractions(text, mapping):\n",
        "    '''Clean contraction using contraction mapping'''    \n",
        "    specials = [\"’\", \"‘\", \"´\", \"`\"]\n",
        "    for s in specials:\n",
        "        text = text.replace(s, \"'\")\n",
        "    for word in mapping.keys():\n",
        "        if \"\"+word+\"\" in text:\n",
        "            text = text.replace(\"\"+word+\"\", \"\"+mapping[word]+\"\")\n",
        "    #Remove Punctuations\n",
        "    text = re.sub('[%s]' % re.escape(string.punctuation), '', text)\n",
        "    # creating a space between a word and the punctuation following it\n",
        "    # eg: \"he is a boy.\" => \"he is a boy .\"\n",
        "    text = re.sub(r\"([?.!,¿])\", r\" \\1 \", text)\n",
        "    text = re.sub(r'[\" \"]+', \" \", text)\n",
        "    return text\n",
        "\n",
        "def clean_special_chars(text, punct, mapping):\n",
        "    '''Cleans special characters present(if any)'''   \n",
        "    for p in mapping:\n",
        "        text = text.replace(p, mapping[p])\n",
        "    \n",
        "    for p in punct:\n",
        "        text = text.replace(p, f' {p} ')\n",
        "    \n",
        "    specials = {'\\u200b': ' ', '…': ' ... ', '\\ufeff': '', 'करना': '', 'है': ''}  \n",
        "    for s in specials:\n",
        "        text = text.replace(s, specials[s])\n",
        "    \n",
        "    return text\n",
        "\n",
        "def correct_spelling(x, dic):\n",
        "    '''Corrects common spelling errors'''   \n",
        "    for word in dic.keys():\n",
        "        x = x.replace(word, dic[word])\n",
        "    return x\n",
        "\n",
        "def remove_space(text):\n",
        "    '''Removes awkward spaces'''   \n",
        "    #Removes awkward spaces \n",
        "    text = text.strip()\n",
        "    text = text.split()\n",
        "    return \" \".join(text)\n",
        "\n",
        "def text_preprocessing_pipeline(text):\n",
        "    '''Cleaning and parsing the text.'''\n",
        "    text = clean_text(text)\n",
        "    text = clean_contractions(text, contraction_mapping)\n",
        "    text = clean_special_chars(text, punct, punct_mapping)\n",
        "    text = correct_spelling(text, mispell_dict)\n",
        "    text = remove_space(text)\n",
        "    return text"
      ],
      "metadata": {
        "id": "HuMqcnD2Z9dt",
        "execution": {
          "iopub.status.busy": "2022-11-13T06:37:34.108432Z",
          "iopub.execute_input": "2022-11-13T06:37:34.108803Z",
          "iopub.status.idle": "2022-11-13T06:37:34.123914Z",
          "shell.execute_reply.started": "2022-11-13T06:37:34.108767Z",
          "shell.execute_reply": "2022-11-13T06:37:34.122879Z"
        },
        "trusted": true
      },
      "execution_count": 101,
      "outputs": []
    },
    {
      "cell_type": "code",
      "source": [
        "df_train['Text'] = df_train['Text'].apply(text_preprocessing_pipeline)\n",
        "df_dev['Text'] = df_dev['Text'].apply(text_preprocessing_pipeline)"
      ],
      "metadata": {
        "id": "D2OybvBPZ9dt",
        "execution": {
          "iopub.status.busy": "2022-11-13T06:37:34.126208Z",
          "iopub.execute_input": "2022-11-13T06:37:34.127891Z",
          "iopub.status.idle": "2022-11-13T06:37:45.612534Z",
          "shell.execute_reply.started": "2022-11-13T06:37:34.127862Z",
          "shell.execute_reply": "2022-11-13T06:37:45.611597Z"
        },
        "trusted": true
      },
      "execution_count": 102,
      "outputs": []
    },
    {
      "cell_type": "code",
      "source": [
        "df_train.reset_index(drop=True).to_csv(\"train.csv\", index=False)\n",
        "df_dev.reset_index(drop=True).to_csv(\"val.csv\", index=False)"
      ],
      "metadata": {
        "id": "pTsXZ_P3Z9du",
        "execution": {
          "iopub.status.busy": "2022-11-13T06:37:45.613876Z",
          "iopub.execute_input": "2022-11-13T06:37:45.614343Z",
          "iopub.status.idle": "2022-11-13T06:37:45.700913Z",
          "shell.execute_reply.started": "2022-11-13T06:37:45.614306Z",
          "shell.execute_reply": "2022-11-13T06:37:45.699982Z"
        },
        "trusted": true
      },
      "execution_count": 103,
      "outputs": []
    },
    {
      "cell_type": "code",
      "source": [
        "df_train = df_train.reset_index(drop=True)\n",
        "df_dev = df_dev.reset_index(drop=True)"
      ],
      "metadata": {
        "id": "zwRrFAINZ9du",
        "execution": {
          "iopub.status.busy": "2022-11-13T06:37:45.702457Z",
          "iopub.execute_input": "2022-11-13T06:37:45.702839Z",
          "iopub.status.idle": "2022-11-13T06:37:45.708971Z",
          "shell.execute_reply.started": "2022-11-13T06:37:45.702800Z",
          "shell.execute_reply": "2022-11-13T06:37:45.708004Z"
        },
        "trusted": true
      },
      "execution_count": 104,
      "outputs": []
    },
    {
      "cell_type": "code",
      "source": [
        "df_train.head()"
      ],
      "metadata": {
        "colab": {
          "base_uri": "https://localhost:8080/",
          "height": 206
        },
        "id": "2_KOLoRGZ9du",
        "outputId": "ddea1dee-bf8f-4676-a29a-ea959d47189f",
        "execution": {
          "iopub.status.busy": "2022-11-13T06:37:45.710499Z",
          "iopub.execute_input": "2022-11-13T06:37:45.711236Z",
          "iopub.status.idle": "2022-11-13T06:37:45.726686Z",
          "shell.execute_reply.started": "2022-11-13T06:37:45.711200Z",
          "shell.execute_reply": "2022-11-13T06:37:45.725821Z"
        },
        "trusted": true
      },
      "execution_count": 105,
      "outputs": [
        {
          "output_type": "execute_result",
          "data": {
            "text/plain": [
              "                                                Text       ID  anger  disgust  \\\n",
              "0                     why the fuck is bayless isoing  eezlygj      1        0   \n",
              "1                        to make her feel threatened  ed7ypvh      0        0   \n",
              "2                             dirty southern wankers  ed0bdzj      1        0   \n",
              "3  omg peyton is not good enough to help us in th...  edvnz26      0        0   \n",
              "4  yes i heard abt the f bombs that has to be why...  ee3b6wu      0        0   \n",
              "\n",
              "   fear  joy  sadness  surprise  \n",
              "0     0    0        0         0  \n",
              "1     1    0        0         0  \n",
              "2     0    0        0         0  \n",
              "3     0    0        0         1  \n",
              "4     0    1        0         0  "
            ],
            "text/html": [
              "\n",
              "  <div id=\"df-759e603b-17cf-4a25-bcf9-4af93ca7a213\">\n",
              "    <div class=\"colab-df-container\">\n",
              "      <div>\n",
              "<style scoped>\n",
              "    .dataframe tbody tr th:only-of-type {\n",
              "        vertical-align: middle;\n",
              "    }\n",
              "\n",
              "    .dataframe tbody tr th {\n",
              "        vertical-align: top;\n",
              "    }\n",
              "\n",
              "    .dataframe thead th {\n",
              "        text-align: right;\n",
              "    }\n",
              "</style>\n",
              "<table border=\"1\" class=\"dataframe\">\n",
              "  <thead>\n",
              "    <tr style=\"text-align: right;\">\n",
              "      <th></th>\n",
              "      <th>Text</th>\n",
              "      <th>ID</th>\n",
              "      <th>anger</th>\n",
              "      <th>disgust</th>\n",
              "      <th>fear</th>\n",
              "      <th>joy</th>\n",
              "      <th>sadness</th>\n",
              "      <th>surprise</th>\n",
              "    </tr>\n",
              "  </thead>\n",
              "  <tbody>\n",
              "    <tr>\n",
              "      <th>0</th>\n",
              "      <td>why the fuck is bayless isoing</td>\n",
              "      <td>eezlygj</td>\n",
              "      <td>1</td>\n",
              "      <td>0</td>\n",
              "      <td>0</td>\n",
              "      <td>0</td>\n",
              "      <td>0</td>\n",
              "      <td>0</td>\n",
              "    </tr>\n",
              "    <tr>\n",
              "      <th>1</th>\n",
              "      <td>to make her feel threatened</td>\n",
              "      <td>ed7ypvh</td>\n",
              "      <td>0</td>\n",
              "      <td>0</td>\n",
              "      <td>1</td>\n",
              "      <td>0</td>\n",
              "      <td>0</td>\n",
              "      <td>0</td>\n",
              "    </tr>\n",
              "    <tr>\n",
              "      <th>2</th>\n",
              "      <td>dirty southern wankers</td>\n",
              "      <td>ed0bdzj</td>\n",
              "      <td>1</td>\n",
              "      <td>0</td>\n",
              "      <td>0</td>\n",
              "      <td>0</td>\n",
              "      <td>0</td>\n",
              "      <td>0</td>\n",
              "    </tr>\n",
              "    <tr>\n",
              "      <th>3</th>\n",
              "      <td>omg peyton is not good enough to help us in th...</td>\n",
              "      <td>edvnz26</td>\n",
              "      <td>0</td>\n",
              "      <td>0</td>\n",
              "      <td>0</td>\n",
              "      <td>0</td>\n",
              "      <td>0</td>\n",
              "      <td>1</td>\n",
              "    </tr>\n",
              "    <tr>\n",
              "      <th>4</th>\n",
              "      <td>yes i heard abt the f bombs that has to be why...</td>\n",
              "      <td>ee3b6wu</td>\n",
              "      <td>0</td>\n",
              "      <td>0</td>\n",
              "      <td>0</td>\n",
              "      <td>1</td>\n",
              "      <td>0</td>\n",
              "      <td>0</td>\n",
              "    </tr>\n",
              "  </tbody>\n",
              "</table>\n",
              "</div>\n",
              "      <button class=\"colab-df-convert\" onclick=\"convertToInteractive('df-759e603b-17cf-4a25-bcf9-4af93ca7a213')\"\n",
              "              title=\"Convert this dataframe to an interactive table.\"\n",
              "              style=\"display:none;\">\n",
              "        \n",
              "  <svg xmlns=\"http://www.w3.org/2000/svg\" height=\"24px\"viewBox=\"0 0 24 24\"\n",
              "       width=\"24px\">\n",
              "    <path d=\"M0 0h24v24H0V0z\" fill=\"none\"/>\n",
              "    <path d=\"M18.56 5.44l.94 2.06.94-2.06 2.06-.94-2.06-.94-.94-2.06-.94 2.06-2.06.94zm-11 1L8.5 8.5l.94-2.06 2.06-.94-2.06-.94L8.5 2.5l-.94 2.06-2.06.94zm10 10l.94 2.06.94-2.06 2.06-.94-2.06-.94-.94-2.06-.94 2.06-2.06.94z\"/><path d=\"M17.41 7.96l-1.37-1.37c-.4-.4-.92-.59-1.43-.59-.52 0-1.04.2-1.43.59L10.3 9.45l-7.72 7.72c-.78.78-.78 2.05 0 2.83L4 21.41c.39.39.9.59 1.41.59.51 0 1.02-.2 1.41-.59l7.78-7.78 2.81-2.81c.8-.78.8-2.07 0-2.86zM5.41 20L4 18.59l7.72-7.72 1.47 1.35L5.41 20z\"/>\n",
              "  </svg>\n",
              "      </button>\n",
              "      \n",
              "  <style>\n",
              "    .colab-df-container {\n",
              "      display:flex;\n",
              "      flex-wrap:wrap;\n",
              "      gap: 12px;\n",
              "    }\n",
              "\n",
              "    .colab-df-convert {\n",
              "      background-color: #E8F0FE;\n",
              "      border: none;\n",
              "      border-radius: 50%;\n",
              "      cursor: pointer;\n",
              "      display: none;\n",
              "      fill: #1967D2;\n",
              "      height: 32px;\n",
              "      padding: 0 0 0 0;\n",
              "      width: 32px;\n",
              "    }\n",
              "\n",
              "    .colab-df-convert:hover {\n",
              "      background-color: #E2EBFA;\n",
              "      box-shadow: 0px 1px 2px rgba(60, 64, 67, 0.3), 0px 1px 3px 1px rgba(60, 64, 67, 0.15);\n",
              "      fill: #174EA6;\n",
              "    }\n",
              "\n",
              "    [theme=dark] .colab-df-convert {\n",
              "      background-color: #3B4455;\n",
              "      fill: #D2E3FC;\n",
              "    }\n",
              "\n",
              "    [theme=dark] .colab-df-convert:hover {\n",
              "      background-color: #434B5C;\n",
              "      box-shadow: 0px 1px 3px 1px rgba(0, 0, 0, 0.15);\n",
              "      filter: drop-shadow(0px 1px 2px rgba(0, 0, 0, 0.3));\n",
              "      fill: #FFFFFF;\n",
              "    }\n",
              "  </style>\n",
              "\n",
              "      <script>\n",
              "        const buttonEl =\n",
              "          document.querySelector('#df-759e603b-17cf-4a25-bcf9-4af93ca7a213 button.colab-df-convert');\n",
              "        buttonEl.style.display =\n",
              "          google.colab.kernel.accessAllowed ? 'block' : 'none';\n",
              "\n",
              "        async function convertToInteractive(key) {\n",
              "          const element = document.querySelector('#df-759e603b-17cf-4a25-bcf9-4af93ca7a213');\n",
              "          const dataTable =\n",
              "            await google.colab.kernel.invokeFunction('convertToInteractive',\n",
              "                                                     [key], {});\n",
              "          if (!dataTable) return;\n",
              "\n",
              "          const docLinkHtml = 'Like what you see? Visit the ' +\n",
              "            '<a target=\"_blank\" href=https://colab.research.google.com/notebooks/data_table.ipynb>data table notebook</a>'\n",
              "            + ' to learn more about interactive tables.';\n",
              "          element.innerHTML = '';\n",
              "          dataTable['output_type'] = 'display_data';\n",
              "          await google.colab.output.renderOutput(dataTable, element);\n",
              "          const docLink = document.createElement('div');\n",
              "          docLink.innerHTML = docLinkHtml;\n",
              "          element.appendChild(docLink);\n",
              "        }\n",
              "      </script>\n",
              "    </div>\n",
              "  </div>\n",
              "  "
            ]
          },
          "metadata": {},
          "execution_count": 105
        }
      ]
    },
    {
      "cell_type": "code",
      "source": [
        "print(df_train.shape)\n",
        "print(df_dev.shape)"
      ],
      "metadata": {
        "colab": {
          "base_uri": "https://localhost:8080/"
        },
        "id": "M4abmu48Z9du",
        "outputId": "635e603e-670b-4083-9f99-27c0475980c6",
        "execution": {
          "iopub.status.busy": "2022-11-13T06:37:45.728159Z",
          "iopub.execute_input": "2022-11-13T06:37:45.728534Z",
          "iopub.status.idle": "2022-11-13T06:37:45.736479Z",
          "shell.execute_reply.started": "2022-11-13T06:37:45.728508Z",
          "shell.execute_reply": "2022-11-13T06:37:45.735256Z"
        },
        "trusted": true
      },
      "execution_count": 106,
      "outputs": [
        {
          "output_type": "stream",
          "name": "stdout",
          "text": [
            "(29191, 8)\n",
            "(3660, 8)\n"
          ]
        }
      ]
    },
    {
      "cell_type": "code",
      "source": [
        "device = 'cuda' if torch.cuda.is_available() else 'cpu'"
      ],
      "metadata": {
        "id": "31FNT0euZ9dv",
        "execution": {
          "iopub.status.busy": "2022-11-13T06:37:45.738256Z",
          "iopub.execute_input": "2022-11-13T06:37:45.738905Z",
          "iopub.status.idle": "2022-11-13T06:37:45.805443Z",
          "shell.execute_reply.started": "2022-11-13T06:37:45.738869Z",
          "shell.execute_reply": "2022-11-13T06:37:45.804303Z"
        },
        "trusted": true
      },
      "execution_count": 107,
      "outputs": []
    },
    {
      "cell_type": "code",
      "source": [
        "# Sections of config\n",
        "\n",
        "# Defining some key variables that will be used later on in the training\n",
        "MAX_LEN = 200\n",
        "TRAIN_BATCH_SIZE = 64\n",
        "VALID_BATCH_SIZE = 64\n",
        "EPOCHS = 5\n",
        "LEARNING_RATE = 5e-5\n",
        "tokenizer = DistilBertTokenizer.from_pretrained('distilbert-base-uncased')"
      ],
      "metadata": {
        "id": "QKP8ZC16Z9dv",
        "execution": {
          "iopub.status.busy": "2022-11-13T06:37:45.808320Z",
          "iopub.execute_input": "2022-11-13T06:37:45.808674Z",
          "iopub.status.idle": "2022-11-13T06:37:48.834159Z",
          "shell.execute_reply.started": "2022-11-13T06:37:45.808632Z",
          "shell.execute_reply": "2022-11-13T06:37:48.833188Z"
        },
        "trusted": true
      },
      "execution_count": 108,
      "outputs": []
    },
    {
      "cell_type": "code",
      "source": [
        "target_cols = [col for col in df_train.columns if col not in ['Text', 'ID']]\n",
        "target_cols"
      ],
      "metadata": {
        "colab": {
          "base_uri": "https://localhost:8080/"
        },
        "id": "BWfpp1ZQZ9dv",
        "outputId": "0cde6519-8631-468b-9c08-04a781f2de13",
        "execution": {
          "iopub.status.busy": "2022-11-13T06:37:48.835527Z",
          "iopub.execute_input": "2022-11-13T06:37:48.836172Z",
          "iopub.status.idle": "2022-11-13T06:37:48.843101Z",
          "shell.execute_reply.started": "2022-11-13T06:37:48.836132Z",
          "shell.execute_reply": "2022-11-13T06:37:48.842161Z"
        },
        "trusted": true
      },
      "execution_count": 109,
      "outputs": [
        {
          "output_type": "execute_result",
          "data": {
            "text/plain": [
              "['anger', 'disgust', 'fear', 'joy', 'sadness', 'surprise']"
            ]
          },
          "metadata": {},
          "execution_count": 109
        }
      ]
    },
    {
      "cell_type": "code",
      "source": [
        "class BERTDataset(Dataset):\n",
        "    def __init__(self, df, tokenizer, max_len):\n",
        "        self.df = df\n",
        "        self.max_len = max_len\n",
        "        self.text = df.Text\n",
        "        self.tokenizer = tokenizer\n",
        "        self.targets = df[target_cols].values\n",
        "        \n",
        "    def __len__(self):\n",
        "        return len(self.df)\n",
        "    \n",
        "    def __getitem__(self, index):\n",
        "        text = self.text[index]\n",
        "        inputs = self.tokenizer.encode_plus(\n",
        "            text,\n",
        "            truncation=True,\n",
        "            add_special_tokens=True,\n",
        "            max_length=self.max_len,\n",
        "            padding='max_length',\n",
        "            return_token_type_ids=True\n",
        "        )\n",
        "        ids = inputs['input_ids']\n",
        "        mask = inputs['attention_mask']\n",
        "        token_type_ids = inputs[\"token_type_ids\"]\n",
        "        \n",
        "        return {\n",
        "            'ids': torch.tensor(ids, dtype=torch.long),\n",
        "            'mask': torch.tensor(mask, dtype=torch.long),\n",
        "            'token_type_ids': torch.tensor(token_type_ids, dtype=torch.long),\n",
        "            'targets': torch.tensor(self.targets[index], dtype=torch.float)\n",
        "        }"
      ],
      "metadata": {
        "id": "_OrLLsA-Z9dv",
        "execution": {
          "iopub.status.busy": "2022-11-13T06:37:48.844554Z",
          "iopub.execute_input": "2022-11-13T06:37:48.845170Z",
          "iopub.status.idle": "2022-11-13T06:37:48.875655Z",
          "shell.execute_reply.started": "2022-11-13T06:37:48.845133Z",
          "shell.execute_reply": "2022-11-13T06:37:48.874697Z"
        },
        "trusted": true
      },
      "execution_count": 110,
      "outputs": []
    },
    {
      "cell_type": "code",
      "source": [
        "train_dataset = BERTDataset(df_train, tokenizer, MAX_LEN)\n",
        "valid_dataset = BERTDataset(df_dev, tokenizer, MAX_LEN)"
      ],
      "metadata": {
        "id": "cFfgWQQjZ9dv",
        "execution": {
          "iopub.status.busy": "2022-11-13T06:37:48.883389Z",
          "iopub.execute_input": "2022-11-13T06:37:48.883699Z",
          "iopub.status.idle": "2022-11-13T06:37:48.891708Z",
          "shell.execute_reply.started": "2022-11-13T06:37:48.883673Z",
          "shell.execute_reply": "2022-11-13T06:37:48.890626Z"
        },
        "trusted": true
      },
      "execution_count": 111,
      "outputs": []
    },
    {
      "cell_type": "code",
      "source": [
        "train_loader = DataLoader(train_dataset, batch_size=TRAIN_BATCH_SIZE, \n",
        "                          num_workers=4, shuffle=True, pin_memory=True)\n",
        "valid_loader = DataLoader(valid_dataset, batch_size=VALID_BATCH_SIZE, \n",
        "                          num_workers=4, shuffle=False, pin_memory=True)"
      ],
      "metadata": {
        "id": "qkPMuzh5Z9dw",
        "execution": {
          "iopub.status.busy": "2022-11-13T06:37:48.893330Z",
          "iopub.execute_input": "2022-11-13T06:37:48.893726Z",
          "iopub.status.idle": "2022-11-13T06:37:48.900095Z",
          "shell.execute_reply.started": "2022-11-13T06:37:48.893693Z",
          "shell.execute_reply": "2022-11-13T06:37:48.898647Z"
        },
        "trusted": true
      },
      "execution_count": 112,
      "outputs": []
    },
    {
      "cell_type": "code",
      "source": [
        "class DistilBERTClass(torch.nn.Module):\n",
        "    def __init__(self):\n",
        "        super(DistilBERTClass, self).__init__()\n",
        "        self.l1 = DistilBertModel.from_pretrained(\"distilbert-base-uncased\")\n",
        "        self.pre_classifier = torch.nn.Linear(768, 768)\n",
        "        self.dropout = torch.nn.Dropout(0.3)\n",
        "        self.classifier = torch.nn.Linear(768, 6)\n",
        "\n",
        "    def forward(self, input_ids, attention_mask, token_type_ids):\n",
        "        output_1 = self.l1(input_ids=input_ids, attention_mask=attention_mask)\n",
        "        hidden_state = output_1[0]\n",
        "        pooler = hidden_state[:, 0]\n",
        "        pooler = self.pre_classifier(pooler)\n",
        "        pooler = torch.nn.Tanh()(pooler)\n",
        "        pooler = self.dropout(pooler)\n",
        "        output = self.classifier(pooler)\n",
        "        return output\n",
        "\n",
        "model = DistilBERTClass()\n",
        "model.to(device);"
      ],
      "metadata": {
        "colab": {
          "base_uri": "https://localhost:8080/"
        },
        "id": "WoO0dOH8nx7C",
        "outputId": "921a455f-edfc-4b72-f48a-988dbac4efc7",
        "execution": {
          "iopub.status.busy": "2022-11-13T06:37:48.901536Z",
          "iopub.execute_input": "2022-11-13T06:37:48.903497Z",
          "iopub.status.idle": "2022-11-13T06:38:08.576230Z",
          "shell.execute_reply.started": "2022-11-13T06:37:48.903460Z",
          "shell.execute_reply": "2022-11-13T06:38:08.575212Z"
        },
        "trusted": true
      },
      "execution_count": 113,
      "outputs": [
        {
          "output_type": "stream",
          "name": "stderr",
          "text": [
            "Some weights of the model checkpoint at distilbert-base-uncased were not used when initializing DistilBertModel: ['vocab_layer_norm.bias', 'vocab_transform.bias', 'vocab_transform.weight', 'vocab_projector.weight', 'vocab_layer_norm.weight', 'vocab_projector.bias']\n",
            "- This IS expected if you are initializing DistilBertModel from the checkpoint of a model trained on another task or with another architecture (e.g. initializing a BertForSequenceClassification model from a BertForPreTraining model).\n",
            "- This IS NOT expected if you are initializing DistilBertModel from the checkpoint of a model that you expect to be exactly identical (initializing a BertForSequenceClassification model from a BertForSequenceClassification model).\n"
          ]
        }
      ]
    },
    {
      "cell_type": "code",
      "source": [
        "def loss_fn(outputs, targets):\n",
        "    return torch.nn.BCEWithLogitsLoss()(outputs, targets)"
      ],
      "metadata": {
        "id": "vv54eNF9Z9dw",
        "execution": {
          "iopub.status.busy": "2022-11-13T06:38:08.577528Z",
          "iopub.execute_input": "2022-11-13T06:38:08.578214Z",
          "iopub.status.idle": "2022-11-13T06:38:08.584130Z",
          "shell.execute_reply.started": "2022-11-13T06:38:08.578178Z",
          "shell.execute_reply": "2022-11-13T06:38:08.582998Z"
        },
        "trusted": true
      },
      "execution_count": 114,
      "outputs": []
    },
    {
      "cell_type": "code",
      "source": [
        "optimizer = AdamW(params =  model.parameters(), lr=LEARNING_RATE, weight_decay=1e-6)"
      ],
      "metadata": {
        "id": "VIwLL7aDZ9dw",
        "execution": {
          "iopub.status.busy": "2022-11-13T06:38:08.585455Z",
          "iopub.execute_input": "2022-11-13T06:38:08.586983Z",
          "iopub.status.idle": "2022-11-13T06:38:08.595205Z",
          "shell.execute_reply.started": "2022-11-13T06:38:08.586930Z",
          "shell.execute_reply": "2022-11-13T06:38:08.594268Z"
        },
        "trusted": true
      },
      "execution_count": 115,
      "outputs": []
    },
    {
      "cell_type": "code",
      "source": [
        "def train(epoch):\n",
        "    model.train()\n",
        "    for _,data in enumerate(train_loader, 0):\n",
        "        ids = data['ids'].to(device, dtype = torch.long)\n",
        "        mask = data['mask'].to(device, dtype = torch.long)\n",
        "        token_type_ids = data['token_type_ids'].to(device, dtype = torch.long)\n",
        "        targets = data['targets'].to(device, dtype = torch.float)\n",
        "\n",
        "        outputs = model(ids, mask, token_type_ids)\n",
        "\n",
        "        loss = loss_fn(outputs, targets)\n",
        "        if _%500 == 0:\n",
        "            print(f'Epoch: {epoch}, Loss:  {loss.item()}')\n",
        "        \n",
        "        loss.backward()\n",
        "        optimizer.step()\n",
        "        optimizer.zero_grad()\n"
      ],
      "metadata": {
        "id": "rAlwSN77Z9dw",
        "execution": {
          "iopub.status.busy": "2022-11-13T06:38:08.596574Z",
          "iopub.execute_input": "2022-11-13T06:38:08.597046Z",
          "iopub.status.idle": "2022-11-13T06:38:08.605337Z",
          "shell.execute_reply.started": "2022-11-13T06:38:08.597011Z",
          "shell.execute_reply": "2022-11-13T06:38:08.604295Z"
        },
        "trusted": true
      },
      "execution_count": 116,
      "outputs": []
    },
    {
      "cell_type": "code",
      "source": [
        "\n",
        "for epoch in range(EPOCHS):\n",
        "  t0= time.time()\n",
        "  train(epoch)\n",
        "  print('{} seconds'.format(time.time() - t0))\n",
        " "
      ],
      "metadata": {
        "colab": {
          "base_uri": "https://localhost:8080/"
        },
        "id": "6N_nV_7wZ9dw",
        "outputId": "7f5ee664-ba8e-478a-92b8-a28f1358a754",
        "execution": {
          "iopub.status.busy": "2022-11-13T06:38:08.607025Z",
          "iopub.execute_input": "2022-11-13T06:38:08.607443Z",
          "iopub.status.idle": "2022-11-13T06:58:59.493065Z",
          "shell.execute_reply.started": "2022-11-13T06:38:08.607410Z",
          "shell.execute_reply": "2022-11-13T06:58:59.491889Z"
        },
        "trusted": true
      },
      "execution_count": 117,
      "outputs": [
        {
          "output_type": "stream",
          "name": "stdout",
          "text": [
            "Epoch: 0, Loss:  0.7146570086479187\n",
            "421.2905466556549 seconds\n",
            "Epoch: 1, Loss:  0.21145376563072205\n",
            "420.5435767173767 seconds\n",
            "Epoch: 2, Loss:  0.12139596790075302\n",
            "420.49165201187134 seconds\n",
            "Epoch: 3, Loss:  0.1413070410490036\n",
            "420.57328152656555 seconds\n",
            "Epoch: 4, Loss:  0.09741553664207458\n",
            "420.45482635498047 seconds\n"
          ]
        }
      ]
    },
    {
      "cell_type": "code",
      "source": [
        "def validation():\n",
        "    model.eval()\n",
        "    fin_targets=[]\n",
        "    fin_outputs=[]\n",
        "    with torch.no_grad():\n",
        "        for _, data in enumerate(valid_loader, 0):\n",
        "            ids = data['ids'].to(device, dtype = torch.long)\n",
        "            mask = data['mask'].to(device, dtype = torch.long)\n",
        "            token_type_ids = data['token_type_ids'].to(device, dtype = torch.long)\n",
        "            targets = data['targets'].to(device, dtype = torch.float)\n",
        "            outputs = model(ids, mask, token_type_ids)\n",
        "            fin_targets.extend(targets.cpu().detach().numpy().tolist())\n",
        "            fin_outputs.extend(torch.sigmoid(outputs).cpu().detach().numpy().tolist())\n",
        "    return fin_outputs, fin_targets"
      ],
      "metadata": {
        "id": "lv0YOF5rZ9dx",
        "execution": {
          "iopub.status.busy": "2022-11-13T06:58:59.495245Z",
          "iopub.execute_input": "2022-11-13T06:58:59.495600Z",
          "iopub.status.idle": "2022-11-13T06:58:59.504327Z",
          "shell.execute_reply.started": "2022-11-13T06:58:59.495560Z",
          "shell.execute_reply": "2022-11-13T06:58:59.503061Z"
        },
        "trusted": true
      },
      "execution_count": 118,
      "outputs": []
    },
    {
      "cell_type": "code",
      "source": [
        "outputs, targets = validation()"
      ],
      "metadata": {
        "id": "lvTaF6gP8XP_"
      },
      "execution_count": 119,
      "outputs": []
    },
    {
      "cell_type": "code",
      "source": [
        "# from probabilities to labels using a given threshold\n",
        "def proba_to_labels(y_pred_proba, threshold=0.5):\n",
        "    \n",
        "    y_pred = []\n",
        "    \n",
        "    for x in y_pred_proba:\n",
        "      pred=[]\n",
        "      for j in x:\n",
        "        if j > threshold:\n",
        "          y = 1.0\n",
        "        else:\n",
        "          y = 0.0\n",
        "        pred.append(y)\n",
        "      y_pred.append(pred)\n",
        "                \n",
        "    return y_pred"
      ],
      "metadata": {
        "id": "BW6852Bv85nw"
      },
      "execution_count": 120,
      "outputs": []
    },
    {
      "cell_type": "code",
      "source": [
        "# Generate labels\n",
        "y_pred_labels = np.array(proba_to_labels(outputs))\n",
        "y_true = np.array(targets)"
      ],
      "metadata": {
        "id": "8bldF0Xw86rm"
      },
      "execution_count": 121,
      "outputs": []
    },
    {
      "cell_type": "code",
      "source": [
        "outputs, targets = validation()\n",
        "outputs = np.array(outputs) >= 0.5\n",
        "accuracy = metrics.accuracy_score(targets, outputs)\n",
        "f1_score_micro = metrics.f1_score(targets, outputs, average='micro')\n",
        "f1_score_macro = metrics.f1_score(targets, outputs, average='macro')\n",
        "print(f\"Accuracy Score = {accuracy}\")\n",
        "print(f\"F1 Score (Micro) = {f1_score_micro}\")\n",
        "print(f\"F1 Score (Macro) = {f1_score_macro}\")"
      ],
      "metadata": {
        "id": "1wt6hx72Z9dx",
        "execution": {
          "iopub.status.busy": "2022-11-13T06:58:59.508829Z",
          "iopub.execute_input": "2022-11-13T06:58:59.509812Z",
          "iopub.status.idle": "2022-11-13T06:59:09.953272Z",
          "shell.execute_reply.started": "2022-11-13T06:58:59.509691Z",
          "shell.execute_reply": "2022-11-13T06:59:09.952132Z"
        },
        "trusted": true,
        "colab": {
          "base_uri": "https://localhost:8080/"
        },
        "outputId": "5c3651e3-4c86-4224-b2fe-58585f831d9b"
      },
      "execution_count": 122,
      "outputs": [
        {
          "output_type": "stream",
          "name": "stdout",
          "text": [
            "Accuracy Score = 0.7114754098360656\n",
            "F1 Score (Micro) = 0.7796178343949045\n",
            "F1 Score (Macro) = 0.659026222194953\n"
          ]
        }
      ]
    },
    {
      "cell_type": "code",
      "source": [
        "# Model evaluation function \n",
        "def model_eval(y_true, y_pred_labels, emotions):\n",
        "    \n",
        "    # Defining variables\n",
        "    precision = []\n",
        "    recall = []\n",
        "    f1 = []\n",
        "    \n",
        "    # Per emotion evaluation      \n",
        "    idx2emotion = {i: e for i, e in enumerate(emotions)}\n",
        "    \n",
        "    for i in range(len(emotions)):\n",
        "   \n",
        "        # Computing precision, recall and f1-score\n",
        "        p, r, f1_score, _ = precision_recall_fscore_support(y_true[:, i], y_pred_labels[:, i], average=\"binary\")\n",
        "        \n",
        "        # Append results in lists\n",
        "        precision.append(round(p, 2))\n",
        "        recall.append(round(r, 2))\n",
        "        f1.append(round(f1_score, 2))\n",
        "    \n",
        "    # Macro evaluation\n",
        "    macro_p, macro_r, macro_f1_score, _ = precision_recall_fscore_support(y_true, y_pred_labels, average=\"macro\")\n",
        "\n",
        "    # Micro evaluation\n",
        "    micro_p, micro_r, micro_f1_score, _ = precision_recall_fscore_support(y_true, y_pred_labels, average=\"micro\")\n",
        "    \n",
        "    # Append results in lists\n",
        "    precision.append(round(macro_p, 2))\n",
        "    recall.append(round(macro_r, 2))\n",
        "    f1.append(round(macro_f1_score, 2))\n",
        "    \n",
        "       # Append results in lists\n",
        "    precision.append(round(micro_p, 2))\n",
        "    recall.append(round(micro_r, 2))\n",
        "    f1.append(round(micro_f1_score, 2))\n",
        "    \n",
        "    # Converting results to a dataframe\n",
        "    df_results = pd.DataFrame({\"Precision\":precision, \"Recall\":recall, 'F1':f1})\n",
        "    df_results.index = emotions+['MACRO-AVERAGE'] + ['MICRO-AVERAGE']\n",
        "    \n",
        "    return df_results"
      ],
      "metadata": {
        "id": "Ms6p1ZzmIQru"
      },
      "execution_count": 123,
      "outputs": []
    },
    {
      "cell_type": "code",
      "source": [
        "# Model evaluation\n",
        "df_model_eval = model_eval(y_true, y_pred_labels, target_cols)\n",
        "df_model_eval"
      ],
      "metadata": {
        "colab": {
          "base_uri": "https://localhost:8080/",
          "height": 300
        },
        "id": "UxSt0arfIRiy",
        "outputId": "5e70f06a-e254-4098-8713-702ad2a221ab"
      },
      "execution_count": 136,
      "outputs": [
        {
          "output_type": "execute_result",
          "data": {
            "text/plain": [
              "               Precision  Recall    F1\n",
              "anger               0.71    0.61  0.66\n",
              "disgust             0.42    0.47  0.45\n",
              "fear                0.75    0.60  0.67\n",
              "joy                 0.86    0.91  0.89\n",
              "sadness             0.68    0.63  0.65\n",
              "surprise            0.71    0.59  0.64\n",
              "MACRO-AVERAGE       0.69    0.64  0.66\n",
              "MICRO-AVERAGE       0.79    0.77  0.78"
            ],
            "text/html": [
              "\n",
              "  <div id=\"df-c18c8e45-b095-4b5b-93f4-8211f821ea2f\">\n",
              "    <div class=\"colab-df-container\">\n",
              "      <div>\n",
              "<style scoped>\n",
              "    .dataframe tbody tr th:only-of-type {\n",
              "        vertical-align: middle;\n",
              "    }\n",
              "\n",
              "    .dataframe tbody tr th {\n",
              "        vertical-align: top;\n",
              "    }\n",
              "\n",
              "    .dataframe thead th {\n",
              "        text-align: right;\n",
              "    }\n",
              "</style>\n",
              "<table border=\"1\" class=\"dataframe\">\n",
              "  <thead>\n",
              "    <tr style=\"text-align: right;\">\n",
              "      <th></th>\n",
              "      <th>Precision</th>\n",
              "      <th>Recall</th>\n",
              "      <th>F1</th>\n",
              "    </tr>\n",
              "  </thead>\n",
              "  <tbody>\n",
              "    <tr>\n",
              "      <th>anger</th>\n",
              "      <td>0.71</td>\n",
              "      <td>0.61</td>\n",
              "      <td>0.66</td>\n",
              "    </tr>\n",
              "    <tr>\n",
              "      <th>disgust</th>\n",
              "      <td>0.42</td>\n",
              "      <td>0.47</td>\n",
              "      <td>0.45</td>\n",
              "    </tr>\n",
              "    <tr>\n",
              "      <th>fear</th>\n",
              "      <td>0.75</td>\n",
              "      <td>0.60</td>\n",
              "      <td>0.67</td>\n",
              "    </tr>\n",
              "    <tr>\n",
              "      <th>joy</th>\n",
              "      <td>0.86</td>\n",
              "      <td>0.91</td>\n",
              "      <td>0.89</td>\n",
              "    </tr>\n",
              "    <tr>\n",
              "      <th>sadness</th>\n",
              "      <td>0.68</td>\n",
              "      <td>0.63</td>\n",
              "      <td>0.65</td>\n",
              "    </tr>\n",
              "    <tr>\n",
              "      <th>surprise</th>\n",
              "      <td>0.71</td>\n",
              "      <td>0.59</td>\n",
              "      <td>0.64</td>\n",
              "    </tr>\n",
              "    <tr>\n",
              "      <th>MACRO-AVERAGE</th>\n",
              "      <td>0.69</td>\n",
              "      <td>0.64</td>\n",
              "      <td>0.66</td>\n",
              "    </tr>\n",
              "    <tr>\n",
              "      <th>MICRO-AVERAGE</th>\n",
              "      <td>0.79</td>\n",
              "      <td>0.77</td>\n",
              "      <td>0.78</td>\n",
              "    </tr>\n",
              "  </tbody>\n",
              "</table>\n",
              "</div>\n",
              "      <button class=\"colab-df-convert\" onclick=\"convertToInteractive('df-c18c8e45-b095-4b5b-93f4-8211f821ea2f')\"\n",
              "              title=\"Convert this dataframe to an interactive table.\"\n",
              "              style=\"display:none;\">\n",
              "        \n",
              "  <svg xmlns=\"http://www.w3.org/2000/svg\" height=\"24px\"viewBox=\"0 0 24 24\"\n",
              "       width=\"24px\">\n",
              "    <path d=\"M0 0h24v24H0V0z\" fill=\"none\"/>\n",
              "    <path d=\"M18.56 5.44l.94 2.06.94-2.06 2.06-.94-2.06-.94-.94-2.06-.94 2.06-2.06.94zm-11 1L8.5 8.5l.94-2.06 2.06-.94-2.06-.94L8.5 2.5l-.94 2.06-2.06.94zm10 10l.94 2.06.94-2.06 2.06-.94-2.06-.94-.94-2.06-.94 2.06-2.06.94z\"/><path d=\"M17.41 7.96l-1.37-1.37c-.4-.4-.92-.59-1.43-.59-.52 0-1.04.2-1.43.59L10.3 9.45l-7.72 7.72c-.78.78-.78 2.05 0 2.83L4 21.41c.39.39.9.59 1.41.59.51 0 1.02-.2 1.41-.59l7.78-7.78 2.81-2.81c.8-.78.8-2.07 0-2.86zM5.41 20L4 18.59l7.72-7.72 1.47 1.35L5.41 20z\"/>\n",
              "  </svg>\n",
              "      </button>\n",
              "      \n",
              "  <style>\n",
              "    .colab-df-container {\n",
              "      display:flex;\n",
              "      flex-wrap:wrap;\n",
              "      gap: 12px;\n",
              "    }\n",
              "\n",
              "    .colab-df-convert {\n",
              "      background-color: #E8F0FE;\n",
              "      border: none;\n",
              "      border-radius: 50%;\n",
              "      cursor: pointer;\n",
              "      display: none;\n",
              "      fill: #1967D2;\n",
              "      height: 32px;\n",
              "      padding: 0 0 0 0;\n",
              "      width: 32px;\n",
              "    }\n",
              "\n",
              "    .colab-df-convert:hover {\n",
              "      background-color: #E2EBFA;\n",
              "      box-shadow: 0px 1px 2px rgba(60, 64, 67, 0.3), 0px 1px 3px 1px rgba(60, 64, 67, 0.15);\n",
              "      fill: #174EA6;\n",
              "    }\n",
              "\n",
              "    [theme=dark] .colab-df-convert {\n",
              "      background-color: #3B4455;\n",
              "      fill: #D2E3FC;\n",
              "    }\n",
              "\n",
              "    [theme=dark] .colab-df-convert:hover {\n",
              "      background-color: #434B5C;\n",
              "      box-shadow: 0px 1px 3px 1px rgba(0, 0, 0, 0.15);\n",
              "      filter: drop-shadow(0px 1px 2px rgba(0, 0, 0, 0.3));\n",
              "      fill: #FFFFFF;\n",
              "    }\n",
              "  </style>\n",
              "\n",
              "      <script>\n",
              "        const buttonEl =\n",
              "          document.querySelector('#df-c18c8e45-b095-4b5b-93f4-8211f821ea2f button.colab-df-convert');\n",
              "        buttonEl.style.display =\n",
              "          google.colab.kernel.accessAllowed ? 'block' : 'none';\n",
              "\n",
              "        async function convertToInteractive(key) {\n",
              "          const element = document.querySelector('#df-c18c8e45-b095-4b5b-93f4-8211f821ea2f');\n",
              "          const dataTable =\n",
              "            await google.colab.kernel.invokeFunction('convertToInteractive',\n",
              "                                                     [key], {});\n",
              "          if (!dataTable) return;\n",
              "\n",
              "          const docLinkHtml = 'Like what you see? Visit the ' +\n",
              "            '<a target=\"_blank\" href=https://colab.research.google.com/notebooks/data_table.ipynb>data table notebook</a>'\n",
              "            + ' to learn more about interactive tables.';\n",
              "          element.innerHTML = '';\n",
              "          dataTable['output_type'] = 'display_data';\n",
              "          await google.colab.output.renderOutput(dataTable, element);\n",
              "          const docLink = document.createElement('div');\n",
              "          docLink.innerHTML = docLinkHtml;\n",
              "          element.appendChild(docLink);\n",
              "        }\n",
              "      </script>\n",
              "    </div>\n",
              "  </div>\n",
              "  "
            ]
          },
          "metadata": {},
          "execution_count": 136
        }
      ]
    },
    {
      "cell_type": "code",
      "source": [
        "df_model_eval.to_csv(\"/content/drive/MyDrive/GoEmotions_Git/distilbert_model_eval_ekman.csv\")"
      ],
      "metadata": {
        "id": "KSSOMPwdlSyN"
      },
      "execution_count": 137,
      "outputs": []
    },
    {
      "cell_type": "code",
      "source": [
        "#torch.save(model.state_dict(), 'model.bin')\n",
        "torch.save(model.state_dict(), \"/content/drive/MyDrive/GoEmotions_Git/state_dict_model_distilbert.pt\")"
      ],
      "metadata": {
        "id": "Dvt2xjCaZ9dx",
        "execution": {
          "iopub.status.busy": "2022-11-13T06:59:09.954867Z",
          "iopub.execute_input": "2022-11-13T06:59:09.956221Z",
          "iopub.status.idle": "2022-11-13T06:59:10.554847Z",
          "shell.execute_reply.started": "2022-11-13T06:59:09.956178Z",
          "shell.execute_reply": "2022-11-13T06:59:10.553828Z"
        },
        "trusted": true
      },
      "execution_count": 125,
      "outputs": []
    },
    {
      "cell_type": "code",
      "source": [
        "#config = AutoConfig.from_pretrained('bert-base-uncased')\n",
        "#model =  AutoModel.from_config(config)"
      ],
      "metadata": {
        "id": "qfI0MO8XZ9dx",
        "execution": {
          "iopub.status.busy": "2022-11-13T06:59:10.565401Z",
          "iopub.execute_input": "2022-11-13T06:59:10.566109Z",
          "iopub.status.idle": "2022-11-13T06:59:10.573410Z",
          "shell.execute_reply.started": "2022-11-13T06:59:10.566072Z",
          "shell.execute_reply": "2022-11-13T06:59:10.572382Z"
        },
        "trusted": true
      },
      "execution_count": 126,
      "outputs": []
    },
    {
      "cell_type": "code",
      "source": [
        "#PATH = \"\"\n",
        "#model.load_state_dict(torch.load(PATH))"
      ],
      "metadata": {
        "id": "-eBPlCPNZ9dy",
        "execution": {
          "iopub.status.busy": "2022-11-13T06:59:10.574606Z",
          "iopub.execute_input": "2022-11-13T06:59:10.575430Z",
          "iopub.status.idle": "2022-11-13T06:59:10.582462Z",
          "shell.execute_reply.started": "2022-11-13T06:59:10.575394Z",
          "shell.execute_reply": "2022-11-13T06:59:10.581507Z"
        },
        "trusted": true
      },
      "execution_count": 127,
      "outputs": []
    },
    {
      "cell_type": "code",
      "source": [
        "device = 'cuda' if torch.cuda.is_available() else 'cpu'"
      ],
      "metadata": {
        "id": "GQNhqumW2yRJ"
      },
      "execution_count": 128,
      "outputs": []
    },
    {
      "cell_type": "code",
      "source": [
        "model.load_state_dict(torch.load('/content/drive/MyDrive/GoEmotions_Git/state_dict_model_distilbert.pt'))\n",
        "model.eval()"
      ],
      "metadata": {
        "id": "BRw8IzVKZ9dy",
        "execution": {
          "iopub.status.busy": "2022-11-13T06:59:12.156838Z",
          "iopub.execute_input": "2022-11-13T06:59:12.157306Z",
          "iopub.status.idle": "2022-11-13T06:59:12.309611Z",
          "shell.execute_reply.started": "2022-11-13T06:59:12.157270Z",
          "shell.execute_reply": "2022-11-13T06:59:12.308633Z"
        },
        "trusted": true,
        "colab": {
          "base_uri": "https://localhost:8080/"
        },
        "outputId": "8fb3bfee-e636-40c1-b4f5-717b08764afc"
      },
      "execution_count": 129,
      "outputs": [
        {
          "output_type": "execute_result",
          "data": {
            "text/plain": [
              "DistilBERTClass(\n",
              "  (l1): DistilBertModel(\n",
              "    (embeddings): Embeddings(\n",
              "      (word_embeddings): Embedding(30522, 768, padding_idx=0)\n",
              "      (position_embeddings): Embedding(512, 768)\n",
              "      (LayerNorm): LayerNorm((768,), eps=1e-12, elementwise_affine=True)\n",
              "      (dropout): Dropout(p=0.1, inplace=False)\n",
              "    )\n",
              "    (transformer): Transformer(\n",
              "      (layer): ModuleList(\n",
              "        (0): TransformerBlock(\n",
              "          (attention): MultiHeadSelfAttention(\n",
              "            (dropout): Dropout(p=0.1, inplace=False)\n",
              "            (q_lin): Linear(in_features=768, out_features=768, bias=True)\n",
              "            (k_lin): Linear(in_features=768, out_features=768, bias=True)\n",
              "            (v_lin): Linear(in_features=768, out_features=768, bias=True)\n",
              "            (out_lin): Linear(in_features=768, out_features=768, bias=True)\n",
              "          )\n",
              "          (sa_layer_norm): LayerNorm((768,), eps=1e-12, elementwise_affine=True)\n",
              "          (ffn): FFN(\n",
              "            (dropout): Dropout(p=0.1, inplace=False)\n",
              "            (lin1): Linear(in_features=768, out_features=3072, bias=True)\n",
              "            (lin2): Linear(in_features=3072, out_features=768, bias=True)\n",
              "            (activation): GELUActivation()\n",
              "          )\n",
              "          (output_layer_norm): LayerNorm((768,), eps=1e-12, elementwise_affine=True)\n",
              "        )\n",
              "        (1): TransformerBlock(\n",
              "          (attention): MultiHeadSelfAttention(\n",
              "            (dropout): Dropout(p=0.1, inplace=False)\n",
              "            (q_lin): Linear(in_features=768, out_features=768, bias=True)\n",
              "            (k_lin): Linear(in_features=768, out_features=768, bias=True)\n",
              "            (v_lin): Linear(in_features=768, out_features=768, bias=True)\n",
              "            (out_lin): Linear(in_features=768, out_features=768, bias=True)\n",
              "          )\n",
              "          (sa_layer_norm): LayerNorm((768,), eps=1e-12, elementwise_affine=True)\n",
              "          (ffn): FFN(\n",
              "            (dropout): Dropout(p=0.1, inplace=False)\n",
              "            (lin1): Linear(in_features=768, out_features=3072, bias=True)\n",
              "            (lin2): Linear(in_features=3072, out_features=768, bias=True)\n",
              "            (activation): GELUActivation()\n",
              "          )\n",
              "          (output_layer_norm): LayerNorm((768,), eps=1e-12, elementwise_affine=True)\n",
              "        )\n",
              "        (2): TransformerBlock(\n",
              "          (attention): MultiHeadSelfAttention(\n",
              "            (dropout): Dropout(p=0.1, inplace=False)\n",
              "            (q_lin): Linear(in_features=768, out_features=768, bias=True)\n",
              "            (k_lin): Linear(in_features=768, out_features=768, bias=True)\n",
              "            (v_lin): Linear(in_features=768, out_features=768, bias=True)\n",
              "            (out_lin): Linear(in_features=768, out_features=768, bias=True)\n",
              "          )\n",
              "          (sa_layer_norm): LayerNorm((768,), eps=1e-12, elementwise_affine=True)\n",
              "          (ffn): FFN(\n",
              "            (dropout): Dropout(p=0.1, inplace=False)\n",
              "            (lin1): Linear(in_features=768, out_features=3072, bias=True)\n",
              "            (lin2): Linear(in_features=3072, out_features=768, bias=True)\n",
              "            (activation): GELUActivation()\n",
              "          )\n",
              "          (output_layer_norm): LayerNorm((768,), eps=1e-12, elementwise_affine=True)\n",
              "        )\n",
              "        (3): TransformerBlock(\n",
              "          (attention): MultiHeadSelfAttention(\n",
              "            (dropout): Dropout(p=0.1, inplace=False)\n",
              "            (q_lin): Linear(in_features=768, out_features=768, bias=True)\n",
              "            (k_lin): Linear(in_features=768, out_features=768, bias=True)\n",
              "            (v_lin): Linear(in_features=768, out_features=768, bias=True)\n",
              "            (out_lin): Linear(in_features=768, out_features=768, bias=True)\n",
              "          )\n",
              "          (sa_layer_norm): LayerNorm((768,), eps=1e-12, elementwise_affine=True)\n",
              "          (ffn): FFN(\n",
              "            (dropout): Dropout(p=0.1, inplace=False)\n",
              "            (lin1): Linear(in_features=768, out_features=3072, bias=True)\n",
              "            (lin2): Linear(in_features=3072, out_features=768, bias=True)\n",
              "            (activation): GELUActivation()\n",
              "          )\n",
              "          (output_layer_norm): LayerNorm((768,), eps=1e-12, elementwise_affine=True)\n",
              "        )\n",
              "        (4): TransformerBlock(\n",
              "          (attention): MultiHeadSelfAttention(\n",
              "            (dropout): Dropout(p=0.1, inplace=False)\n",
              "            (q_lin): Linear(in_features=768, out_features=768, bias=True)\n",
              "            (k_lin): Linear(in_features=768, out_features=768, bias=True)\n",
              "            (v_lin): Linear(in_features=768, out_features=768, bias=True)\n",
              "            (out_lin): Linear(in_features=768, out_features=768, bias=True)\n",
              "          )\n",
              "          (sa_layer_norm): LayerNorm((768,), eps=1e-12, elementwise_affine=True)\n",
              "          (ffn): FFN(\n",
              "            (dropout): Dropout(p=0.1, inplace=False)\n",
              "            (lin1): Linear(in_features=768, out_features=3072, bias=True)\n",
              "            (lin2): Linear(in_features=3072, out_features=768, bias=True)\n",
              "            (activation): GELUActivation()\n",
              "          )\n",
              "          (output_layer_norm): LayerNorm((768,), eps=1e-12, elementwise_affine=True)\n",
              "        )\n",
              "        (5): TransformerBlock(\n",
              "          (attention): MultiHeadSelfAttention(\n",
              "            (dropout): Dropout(p=0.1, inplace=False)\n",
              "            (q_lin): Linear(in_features=768, out_features=768, bias=True)\n",
              "            (k_lin): Linear(in_features=768, out_features=768, bias=True)\n",
              "            (v_lin): Linear(in_features=768, out_features=768, bias=True)\n",
              "            (out_lin): Linear(in_features=768, out_features=768, bias=True)\n",
              "          )\n",
              "          (sa_layer_norm): LayerNorm((768,), eps=1e-12, elementwise_affine=True)\n",
              "          (ffn): FFN(\n",
              "            (dropout): Dropout(p=0.1, inplace=False)\n",
              "            (lin1): Linear(in_features=768, out_features=3072, bias=True)\n",
              "            (lin2): Linear(in_features=3072, out_features=768, bias=True)\n",
              "            (activation): GELUActivation()\n",
              "          )\n",
              "          (output_layer_norm): LayerNorm((768,), eps=1e-12, elementwise_affine=True)\n",
              "        )\n",
              "      )\n",
              "    )\n",
              "  )\n",
              "  (pre_classifier): Linear(in_features=768, out_features=768, bias=True)\n",
              "  (dropout): Dropout(p=0.3, inplace=False)\n",
              "  (classifier): Linear(in_features=768, out_features=6, bias=True)\n",
              ")"
            ]
          },
          "metadata": {},
          "execution_count": 129
        }
      ]
    },
    {
      "cell_type": "code",
      "source": [
        "tokenizer = DistilBertTokenizer.from_pretrained('distilbert-base-uncased')\n",
        "\n",
        "text = 'I am feeling very sad'\n",
        "\n",
        "\n",
        "inputs = tokenizer.encode_plus(\n",
        "    text,\n",
        "    truncation=True,\n",
        "    add_special_tokens=True,\n",
        "    max_length=200,\n",
        "    padding='max_length',\n",
        "    return_token_type_ids=True\n",
        ")\n",
        "\n",
        "pred_id = inputs['input_ids']\n",
        "\n",
        "pred_mask = inputs['attention_mask']\n",
        "\n",
        "pred_token_type_id =inputs[\"token_type_ids\"]\n"
      ],
      "metadata": {
        "id": "rFxU7tLbZ9dy",
        "execution": {
          "iopub.status.busy": "2022-11-13T06:59:12.311166Z",
          "iopub.execute_input": "2022-11-13T06:59:12.311782Z",
          "iopub.status.idle": "2022-11-13T06:59:14.011306Z",
          "shell.execute_reply.started": "2022-11-13T06:59:12.311744Z",
          "shell.execute_reply": "2022-11-13T06:59:14.010313Z"
        },
        "trusted": true
      },
      "execution_count": 130,
      "outputs": []
    },
    {
      "cell_type": "code",
      "source": [
        "pred_id= torch.tensor(pred_id, dtype=torch.long)\n",
        "pred_mask= torch.tensor(pred_mask, dtype=torch.long)\n",
        "pred_token_type_id= torch.tensor(pred_token_type_id, dtype=torch.long)\n",
        "\n",
        "pred_mask=torch.unsqueeze(pred_mask, 0)\n",
        "pred_id=torch.unsqueeze(pred_id, 0)\n",
        "pred_token_type_id=torch.unsqueeze(pred_token_type_id, 0)\n",
        "\n",
        "pred_id=pred_id.to(device, dtype = torch.long)\n",
        "pred_mask=pred_mask.to(device, dtype = torch.long)\n",
        "pred_token_type_id =pred_token_type_id.to(device, dtype = torch.long)\n",
        "\n",
        "prediction = model(pred_id, pred_mask, pred_token_type_id)\n",
        "prediction"
      ],
      "metadata": {
        "id": "-mwDhuqOZ9dy",
        "execution": {
          "iopub.status.busy": "2022-11-13T06:59:14.012687Z",
          "iopub.execute_input": "2022-11-13T06:59:14.013064Z",
          "iopub.status.idle": "2022-11-13T06:59:14.056510Z",
          "shell.execute_reply.started": "2022-11-13T06:59:14.013026Z",
          "shell.execute_reply": "2022-11-13T06:59:14.055438Z"
        },
        "trusted": true,
        "colab": {
          "base_uri": "https://localhost:8080/"
        },
        "outputId": "6e596c37-5179-4475-c3b7-3e86d10df39c"
      },
      "execution_count": 131,
      "outputs": [
        {
          "output_type": "execute_result",
          "data": {
            "text/plain": [
              "tensor([[-4.9426, -5.7622, -4.5386, -4.6304,  4.6568, -4.8293]],\n",
              "       device='cuda:0', grad_fn=<AddmmBackward0>)"
            ]
          },
          "metadata": {},
          "execution_count": 131
        }
      ]
    },
    {
      "cell_type": "code",
      "source": [
        "def ohe_to_labels(idx_list):\n",
        "    arr = []\n",
        "    for i, emotion in enumerate(idx_list):\n",
        "        if emotion:\n",
        "            arr.append(target_cols[i])\n",
        "    return arr"
      ],
      "metadata": {
        "id": "Chz6FBwSZ9dz",
        "execution": {
          "iopub.status.busy": "2022-11-13T06:59:14.057893Z",
          "iopub.execute_input": "2022-11-13T06:59:14.058509Z",
          "iopub.status.idle": "2022-11-13T06:59:14.063986Z",
          "shell.execute_reply.started": "2022-11-13T06:59:14.058473Z",
          "shell.execute_reply": "2022-11-13T06:59:14.063019Z"
        },
        "trusted": true
      },
      "execution_count": 132,
      "outputs": []
    },
    {
      "cell_type": "code",
      "source": [
        "output = np.where(nn.Sigmoid()(prediction).cpu().detach().numpy() >= 0.5, 1, 0).flatten()\n",
        "output"
      ],
      "metadata": {
        "id": "PIZqUw3JZ9dz",
        "execution": {
          "iopub.status.busy": "2022-11-13T06:59:14.065424Z",
          "iopub.execute_input": "2022-11-13T06:59:14.066005Z",
          "iopub.status.idle": "2022-11-13T06:59:14.079386Z",
          "shell.execute_reply.started": "2022-11-13T06:59:14.065970Z",
          "shell.execute_reply": "2022-11-13T06:59:14.078281Z"
        },
        "trusted": true,
        "colab": {
          "base_uri": "https://localhost:8080/"
        },
        "outputId": "e4957ff7-9f09-47f1-a227-4be0f96f01bd"
      },
      "execution_count": 133,
      "outputs": [
        {
          "output_type": "execute_result",
          "data": {
            "text/plain": [
              "array([0, 0, 0, 0, 1, 0])"
            ]
          },
          "metadata": {},
          "execution_count": 133
        }
      ]
    },
    {
      "cell_type": "code",
      "source": [
        "def ohe_to_labels(idx_list):\n",
        "    arr = []\n",
        "    for i, emotion in enumerate(idx_list):\n",
        "        if emotion:\n",
        "            arr.append(target_cols[i])\n",
        "    return arr"
      ],
      "metadata": {
        "execution": {
          "iopub.status.busy": "2022-11-13T06:59:14.081068Z",
          "iopub.execute_input": "2022-11-13T06:59:14.081450Z",
          "iopub.status.idle": "2022-11-13T06:59:14.088136Z",
          "shell.execute_reply.started": "2022-11-13T06:59:14.081414Z",
          "shell.execute_reply": "2022-11-13T06:59:14.087115Z"
        },
        "trusted": true,
        "id": "tfXtFyziuk4D"
      },
      "execution_count": 134,
      "outputs": []
    },
    {
      "cell_type": "code",
      "source": [
        "emotion_classification = ohe_to_labels(output)\n",
        "emotion_classification"
      ],
      "metadata": {
        "id": "eZLXbOP3Z9dz",
        "execution": {
          "iopub.status.busy": "2022-11-13T06:59:14.089671Z",
          "iopub.execute_input": "2022-11-13T06:59:14.090031Z",
          "iopub.status.idle": "2022-11-13T06:59:14.100657Z",
          "shell.execute_reply.started": "2022-11-13T06:59:14.089997Z",
          "shell.execute_reply": "2022-11-13T06:59:14.099620Z"
        },
        "trusted": true,
        "colab": {
          "base_uri": "https://localhost:8080/"
        },
        "outputId": "c1fa8296-5d04-4cd8-a4c1-78b395360295"
      },
      "execution_count": 135,
      "outputs": [
        {
          "output_type": "execute_result",
          "data": {
            "text/plain": [
              "['sadness']"
            ]
          },
          "metadata": {},
          "execution_count": 135
        }
      ]
    },
    {
      "cell_type": "code",
      "source": [],
      "metadata": {
        "id": "TEY5zfwsZ9dz"
      },
      "execution_count": 135,
      "outputs": []
    },
    {
      "cell_type": "code",
      "source": [],
      "metadata": {
        "id": "ddRg2JO7Z9dz"
      },
      "execution_count": 135,
      "outputs": []
    }
  ]
}